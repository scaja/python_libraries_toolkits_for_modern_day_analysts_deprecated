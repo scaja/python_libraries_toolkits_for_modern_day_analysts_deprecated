{
 "cells": [
  {
   "cell_type": "markdown",
   "metadata": {},
   "source": [
    "### well structured - an ode to databases\n"
   ]
  },
  {
   "cell_type": "markdown",
   "metadata": {},
   "source": [
    "# data preparation"
   ]
  },
  {
   "cell_type": "markdown",
   "metadata": {},
   "source": [
    "### import libraries"
   ]
  },
  {
   "cell_type": "code",
   "execution_count": 2,
   "metadata": {},
   "outputs": [],
   "source": [
    "import sqlite3\n",
    "import pandas as pd\n",
    "import numpy as np\n",
    "import matplotlib.pyplot as plt\n",
    "import os\n",
    "%matplotlib inline"
   ]
  },
  {
   "cell_type": "markdown",
   "metadata": {},
   "source": [
    "## build stock preparation class"
   ]
  },
  {
   "cell_type": "code",
   "execution_count": 809,
   "metadata": {},
   "outputs": [],
   "source": [
    "class stock_prep:\n",
    "    def __init__(self, company_name):\n",
    "\n",
    "        # load data\n",
    "        self.company_stock_prices = pd.read_csv('data/' + company_name)[['Date', 'Close']] #input genauere Beschreibung\n",
    "        self.company_name = company_name\n",
    "\n",
    "        # return dfs\n",
    "        self.replace_company_stock_prices = []\n",
    "        self.missing_company_stock_prices = []\n",
    "        self.avg_norm_loss_company_stock_prices = []\n",
    "        self.formatted_date_to_index = []\n",
    "        self.standardization_company_stock_prices = []\n",
    "        self.normalization_company_stock_prices = []\n",
    "        self.binning_company_stock_prices = []\n",
    "        self.indicator_variables_stock_prices = []\n",
    "        self.to_sql_stock_prices = []\n",
    "\n",
    "    def replace_values(self):\n",
    "        self.replace_company_stock_prices = self.company_stock_prices.replace(\"?\", np.nan)\n",
    "        \n",
    "    def missing_values_count(self):\n",
    "\n",
    "        # count missing values\n",
    "        self.missing_company_stock_prices = self.replace_company_stock_prices.isnull()\n",
    "        self.missing_company_stock_prices = self.missing_company_stock_prices['Close'].value_counts()\n",
    "    \n",
    "    def avg_norm_loss(self):\n",
    "\n",
    "        # calculate mean and replace missing values\n",
    "        aux_var_avg_norm_loss = self.replace_company_stock_prices[\"Close\"].astype(\"float\").mean(axis=0)\n",
    "        self.replace_company_stock_prices['Close'] = self.replace_company_stock_prices['Close'].replace(np.nan, aux_var_avg_norm_loss)\n",
    "\n",
    "        # rename Series for df\n",
    "        first_item = self.replace_company_stock_prices['Date'].rename('date_date')\n",
    "        second_item = self.replace_company_stock_prices['Close'].rename('close_avg_norm_loss')\n",
    "\n",
    "        # build df\n",
    "        self.avg_norm_loss_company_stock_prices = pd.concat([first_item, second_item], axis=1)\n",
    "\n",
    "    def format_date_to_index(self):\n",
    "\n",
    "        # format date to int\n",
    "        aux_var_replaced_date = self.avg_norm_loss_company_stock_prices['date_date'].str.replace('-', '', regex=True).astype(np.int64)\n",
    "        self.avg_norm_loss_company_stock_prices['close_avg_norm_loss'] = self.avg_norm_loss_company_stock_prices['close_avg_norm_loss'].astype(np.float64)\n",
    "\n",
    "        # rename Series for df\n",
    "        first_item = self.avg_norm_loss_company_stock_prices\n",
    "        second_item = aux_var_replaced_date.rename('date_int')\n",
    "\n",
    "        # build df\n",
    "        self.formatted_date_to_index = pd.concat([first_item, second_item], axis=1)\n",
    "        \n",
    "    def standardization(self):\n",
    "\n",
    "        # standardize close_avg_norm_loss\n",
    "        aux_var_form_ind = self.formatted_date_to_index['date_int']/self.formatted_date_to_index[\"close_avg_norm_loss\"]\n",
    "\n",
    "        # rename Series for df\n",
    "        first_item = self.formatted_date_to_index\n",
    "        second_item =  aux_var_form_ind.rename(\"close_stand\")\n",
    "\n",
    "        # build df        \n",
    "        self.standardization_company_stock_prices = pd.concat([first_item, second_item], axis=1)\n",
    "        \n",
    "    def normalization(self):\n",
    "\n",
    "        # replace (original value) by (original value)/(maximum value)\n",
    "        aux_var_norm_close = self.standardization_company_stock_prices['close_stand']/self.standardization_company_stock_prices['close_stand'].max()\n",
    "\n",
    "        # rename Series for df\n",
    "        first_item = self.standardization_company_stock_prices\n",
    "        second_item = aux_var_norm_close.rename(\"close_normal\")\n",
    "\n",
    "        # build df\n",
    "        self.normalization_company_stock_prices = pd.concat([first_item, second_item], axis=1)\n",
    "        \n",
    "    def binning(self):\n",
    "\n",
    "        # build bins\n",
    "        aux_var_bins = np.linspace(min(self.normalization_company_stock_prices[\"close_normal\"]), max(self.normalization_company_stock_prices[\"close_normal\"]), 4)\n",
    "        aux_var_group_names = [\"Low\", \"Medium\", \"High\"]\n",
    "        aux_var_build_bins = pd.cut(self.normalization_company_stock_prices['close_normal'], aux_var_bins, labels = aux_var_group_names, include_lowest= True)\n",
    "\n",
    "        # rename Series for df\n",
    "        first_item = self.normalization_company_stock_prices\n",
    "        second_item = aux_var_build_bins.rename(\"close_binned\")\n",
    "\n",
    "        # build df\n",
    "        self.binning_company_stock_prices = pd.concat([first_item, second_item], axis=1)\n",
    "\n",
    "    def plot_bins_hist(self):\n",
    "\n",
    "        plt.hist(self.binning_company_stock_prices[\"close_binned\"], bins = 3)\n",
    "       \n",
    "        plt.xlabel(\"amount\")\n",
    "        plt.ylabel(\"close_binned\")\n",
    "        plt.title(\"Close_Price_Categories\")\n",
    "      \n",
    "    def indicator_variables(self):\n",
    "\n",
    "        # build indicators\n",
    "        aux_var_indi = pd.get_dummies(self.binning_company_stock_prices[\"close_binned\"])\n",
    "        aux_var_drop = self.binning_company_stock_prices.drop(['close_binned'], axis = 1)\n",
    "\n",
    "        # rename Series for df\n",
    "        first_item = aux_var_drop\n",
    "        second_item = aux_var_indi #.rename(columns={'Medium':'close_price_medium', 'High':'close_price_high'}, inplace=True)\n",
    "\n",
    "        # # build df\n",
    "        self.indicator_variables_stock_prices = pd.concat([first_item, second_item], axis=1)\n",
    "\n",
    "    def to_sqlite_database(self):\n",
    "        conn = sqlite3.connect('stocks_prep.db')\n",
    "        self.indicator_variables_stock_prices.to_sql(name=self.company_name, con=conn, if_exists='replace')\n",
    "        conn.commit()\n",
    "        conn.close() "
   ]
  },
  {
   "cell_type": "code",
   "execution_count": 810,
   "metadata": {},
   "outputs": [],
   "source": [
    "stock_prep_obj = stock_prep('iShares Global Timber & Forestry UCITS ETF USD Acc.csv')"
   ]
  },
  {
   "cell_type": "markdown",
   "metadata": {},
   "source": [
    "## identify and handling missing values"
   ]
  },
  {
   "cell_type": "code",
   "execution_count": 811,
   "metadata": {},
   "outputs": [
    {
     "name": "stdout",
     "output_type": "stream",
     "text": [
      "         Date               Close\n",
      "0  2021-11-05                 NaN\n",
      "1  2021-11-08   30.70560073852539\n",
      "2  2021-11-09  30.667200088500977\n",
      "3  2021-11-10   30.44179916381836\n",
      "4  2021-11-11  30.740800857543945\n"
     ]
    }
   ],
   "source": [
    "#replace missing values\n",
    "stock_prep_obj.replace_values()\n",
    "print(stock_prep_obj.replace_company_stock_prices.head(5))"
   ]
  },
  {
   "cell_type": "code",
   "execution_count": 812,
   "metadata": {},
   "outputs": [
    {
     "name": "stdout",
     "output_type": "stream",
     "text": [
      "Close\n",
      "False    608\n",
      "True       1\n",
      "Name: count, dtype: int64\n"
     ]
    }
   ],
   "source": [
    "#identify missing values\n",
    "stock_prep_obj.missing_values_count()\n",
    "print(stock_prep_obj.missing_company_stock_prices)"
   ]
  },
  {
   "cell_type": "code",
   "execution_count": 813,
   "metadata": {},
   "outputs": [
    {
     "name": "stdout",
     "output_type": "stream",
     "text": [
      "    date_date close_avg_norm_loss\n",
      "0  2021-11-05           26.664175\n",
      "1  2021-11-08   30.70560073852539\n",
      "2  2021-11-09  30.667200088500977\n",
      "3  2021-11-10   30.44179916381836\n",
      "4  2021-11-11  30.740800857543945\n"
     ]
    }
   ],
   "source": [
    "#handling missing values\n",
    "stock_prep_obj.avg_norm_loss()\n",
    "print(stock_prep_obj.avg_norm_loss_company_stock_prices.head(5))"
   ]
  },
  {
   "cell_type": "markdown",
   "metadata": {},
   "source": [
    "## correct dataformat"
   ]
  },
  {
   "cell_type": "code",
   "execution_count": 814,
   "metadata": {},
   "outputs": [
    {
     "name": "stdout",
     "output_type": "stream",
     "text": [
      "    date_date  close_avg_norm_loss  date_int\n",
      "0  2021-11-05            26.664175  20211105\n",
      "1  2021-11-08            30.705601  20211108\n",
      "2  2021-11-09            30.667200  20211109\n",
      "3  2021-11-10            30.441799  20211110\n",
      "4  2021-11-11            30.740801  20211111\n"
     ]
    }
   ],
   "source": [
    "stock_prep_obj.format_date_to_index()\n",
    "print(stock_prep_obj.formatted_date_to_index.head(5))"
   ]
  },
  {
   "cell_type": "markdown",
   "metadata": {},
   "source": [
    "## data standardization"
   ]
  },
  {
   "cell_type": "code",
   "execution_count": 815,
   "metadata": {},
   "outputs": [
    {
     "name": "stdout",
     "output_type": "stream",
     "text": [
      "    date_date  close_avg_norm_loss  date_int    close_stand\n",
      "0  2021-11-05            26.664175  20211105  757987.247871\n",
      "1  2021-11-08            30.705601  20211108  658222.197706\n",
      "2  2021-11-09            30.667200  20211109  659046.438595\n",
      "3  2021-11-10            30.441799  20211110  663926.264385\n",
      "4  2021-11-11            30.740801  20211111  657468.590154\n"
     ]
    }
   ],
   "source": [
    "stock_prep_obj.standardization()\n",
    "print(stock_prep_obj.standardization_company_stock_prices.head(5))\n"
   ]
  },
  {
   "cell_type": "markdown",
   "metadata": {},
   "source": [
    "# normalization"
   ]
  },
  {
   "cell_type": "code",
   "execution_count": 816,
   "metadata": {},
   "outputs": [
    {
     "name": "stdout",
     "output_type": "stream",
     "text": [
      "    date_date  close_avg_norm_loss  date_int    close_stand  close_normal\n",
      "0  2021-11-05            26.664175  20211105  757987.247871      0.851640\n",
      "1  2021-11-08            30.705601  20211108  658222.197706      0.739549\n",
      "2  2021-11-09            30.667200  20211109  659046.438595      0.740475\n",
      "3  2021-11-10            30.441799  20211110  663926.264385      0.745958\n",
      "4  2021-11-11            30.740801  20211111  657468.590154      0.738702\n"
     ]
    }
   ],
   "source": [
    "stock_prep_obj.normalization()\n",
    "print(stock_prep_obj.normalization_company_stock_prices.head(5))"
   ]
  },
  {
   "cell_type": "markdown",
   "metadata": {},
   "source": [
    "## binning"
   ]
  },
  {
   "cell_type": "code",
   "execution_count": 817,
   "metadata": {},
   "outputs": [
    {
     "name": "stdout",
     "output_type": "stream",
     "text": [
      "    date_date  close_avg_norm_loss  date_int    close_stand  close_normal  \\\n",
      "0  2021-11-05            26.664175  20211105  757987.247871      0.851640   \n",
      "1  2021-11-08            30.705601  20211108  658222.197706      0.739549   \n",
      "2  2021-11-09            30.667200  20211109  659046.438595      0.740475   \n",
      "3  2021-11-10            30.441799  20211110  663926.264385      0.745958   \n",
      "4  2021-11-11            30.740801  20211111  657468.590154      0.738702   \n",
      "\n",
      "  close_binned  \n",
      "0       Medium  \n",
      "1          Low  \n",
      "2          Low  \n",
      "3          Low  \n",
      "4          Low  \n"
     ]
    },
    {
     "data": {
      "image/png": "[encoded data removed]",
      "text/plain": [
       "<Figure size 640x480 with 1 Axes>"
      ]
     },
     "metadata": {},
     "output_type": "display_data"
    }
   ],
   "source": [
    "stock_prep_obj.binning()\n",
    "print(stock_prep_obj.binning_company_stock_prices.head(5))\n",
    "stock_prep_obj.plot_bins_hist()"
   ]
  },
  {
   "cell_type": "code",
   "execution_count": 3,
   "metadata": {},
   "outputs": [
    {
     "data": {
      "image/png": "[encoded data removed]",
      "text/plain": [
       "<Figure size 640x480 with 1 Axes>"
      ]
     },
     "metadata": {},
     "output_type": "display_data"
    }
   ],
   "source": [
    "categories = [\"High\", \"Medium\", \"Low\"]\n",
    "company_names = [\"Farmer Joe\", \"Upland Bros.\", \"Smith Gardening\",\n",
    "           \"Agrifun\", \"Organiculture\", \"BioGoods Ltd.\", \"Cornylee Corp.\"]\n",
    "\n",
    "amount = np.array([[0.8, 2.4, 2.5, 3.9, 0.0, 4.0, 0.0],\n",
    "                    [2.4, 0.0, 4.0, 1.0, 2.7, 0.0, 0.0],\n",
    "                    [1.1, 2.4, 0.8, 4.3, 1.9, 4.4, 0.0],\n",
    "                    [0.6, 0.0, 0.3, 0.0, 3.1, 0.0, 0.0],\n",
    "                    [0.7, 1.7, 0.6, 2.6, 2.2, 6.2, 0.0],\n",
    "                    [1.3, 1.2, 0.0, 0.0, 0.0, 3.2, 5.1],\n",
    "                    [0.1, 2.0, 0.0, 1.4, 0.0, 1.9, 6.3]])\n",
    "\n",
    "categories = [\"High\", \"Medium\", \"Low\"]\n",
    "company_names = [\"Farmer Joe\", \"Upland Bros.\", \"Smith Gardening\",\n",
    "           \"Agrifun\", \"Organiculture\", \"BioGoods Ltd.\", \"Cornylee Corp.\"]\n",
    "\n",
    "\n",
    "fig, ax = plt.subplots()\n",
    "im = ax.imshow(amount)\n",
    "\n",
    "# Show all ticks and label them with the respective list entries\n",
    "ax.set_xticks(np.arange(len(categories)), labels=categories)\n",
    "ax.set_yticks(np.arange(len(company_names)), labels=company_names)\n",
    "\n",
    "# Rotate the tick labels and set their alignment.\n",
    "plt.setp(ax.get_xticklabels(), rotation=45, ha=\"right\",\n",
    "                rotation_mode=\"anchor\")\n",
    "\n",
    "# Loop over data dimensions and create text annotations.\n",
    "for i in range(len(categories)):\n",
    "        for j in range(len(company_names)):\n",
    "                text = ax.text(j, i, amount[i, j],\n",
    "                        ha=\"center\", va=\"center\", color=\"w\")\n",
    "\n",
    "ax.set_title(\"Categories amount\")\n",
    "fig.tight_layout()\n",
    "plt.show()    \n"
   ]
  },
  {
   "cell_type": "markdown",
   "metadata": {},
   "source": [
    "## indicator Variables"
   ]
  },
  {
   "cell_type": "code",
   "execution_count": 818,
   "metadata": {},
   "outputs": [
    {
     "name": "stdout",
     "output_type": "stream",
     "text": [
      "    date_date  close_avg_norm_loss  date_int    close_stand  close_normal  \\\n",
      "0  2021-11-05            26.664175  20211105  757987.247871      0.851640   \n",
      "1  2021-11-08            30.705601  20211108  658222.197706      0.739549   \n",
      "2  2021-11-09            30.667200  20211109  659046.438595      0.740475   \n",
      "3  2021-11-10            30.441799  20211110  663926.264385      0.745958   \n",
      "4  2021-11-11            30.740801  20211111  657468.590154      0.738702   \n",
      "\n",
      "     Low  Medium   High  \n",
      "0  False    True  False  \n",
      "1   True   False  False  \n",
      "2   True   False  False  \n",
      "3   True   False  False  \n",
      "4   True   False  False  \n"
     ]
    }
   ],
   "source": [
    "stock_prep_obj.indicator_variables()\n",
    "print(stock_prep_obj.indicator_variables_stock_prices.head(5))"
   ]
  },
  {
   "cell_type": "markdown",
   "metadata": {},
   "source": [
    "## store in  stock_prep db"
   ]
  },
  {
   "cell_type": "code",
   "execution_count": 819,
   "metadata": {},
   "outputs": [],
   "source": [
    "stock_prep_obj.to_sqlite_database()"
   ]
  },
  {
   "cell_type": "markdown",
   "metadata": {},
   "source": [
    "# store data in sqlite db"
   ]
  },
  {
   "cell_type": "code",
   "execution_count": 820,
   "metadata": {},
   "outputs": [
    {
     "name": "stdout",
     "output_type": "stream",
     "text": [
      "stored in stocks_prep db: iShares Global Timber & Forestry UCITS ETF USD Acc.csv\n",
      "stored in stocks_prep db: Weyerhaeuser Company.csv\n",
      "stored in stocks_prep db: Svenska Cellulosa Aktiebolaget SCA (publ).csv\n",
      "stored in stocks_prep db: Suzano S.A..csv\n"
     ]
    },
    {
     "name": "stdout",
     "output_type": "stream",
     "text": [
      "stored in stocks_prep db: Smurfit Kappa Group Plc.csv\n",
      "stored in stocks_prep db: International Paper Company.csv\n",
      "stored in stocks_prep db: Stora Enso Oyj.csv\n",
      "stored in stocks_prep db: Rayonier Inc..csv\n",
      "stored in stocks_prep db: West Fraser Timber Co. Ltd..csv\n",
      "stored in stocks_prep db: WestRock Company.csv\n",
      "stored in stocks_prep db: PotlatchDeltic Corporation.csv\n"
     ]
    }
   ],
   "source": [
    "#ticker_symbols = ['WOOE.AS', 'WY', 'SCA-B.ST', 'SUZ', 'SK3.IR', 'IP', 'STERV.HE','RYN', 'WFG', 'WRK', 'PCH']\n",
    "file_names = os.listdir('data/')\n",
    "#print(file_names)\n",
    "\n",
    "for file_name in file_names:\n",
    "\n",
    "    # call init class\n",
    "    stock_prep_obj = stock_prep(file_name)\n",
    "\n",
    "    # replace missing values\n",
    "    stock_prep_obj.replace_values()\n",
    "    \n",
    "    # identify missing values\n",
    "    stock_prep_obj.missing_values_count()\n",
    "    \n",
    "    # handling missing values\n",
    "    stock_prep_obj.avg_norm_loss()\n",
    "\n",
    "    # data_format\n",
    "    stock_prep_obj.format_date_to_index()\n",
    "\n",
    "    # data standardization\n",
    "    stock_prep_obj.standardization()\n",
    "\n",
    "    # data normalization\n",
    "    stock_prep_obj.normalization()\n",
    "\n",
    "    # binning\n",
    "    stock_prep_obj.binning()\n",
    "    # stock_prep_obj.plot_bins()\n",
    "\n",
    "    # indicator variables\n",
    "    stock_prep_obj.indicator_variables()\n",
    "\n",
    "    # data in sqlite database\n",
    "    stock_prep_obj.to_sqlite_database()\n",
    "\n",
    "    print('stored in stocks_prep db: ' + file_name)\n",
    "\n",
    "    "
   ]
  }
 ],
 "metadata": {
  "kernelspec": {
   "display_name": "venv",
   "language": "python",
   "name": "python3"
  },
  "language_info": {
   "codemirror_mode": {
    "name": "ipython",
    "version": 3
   },
   "file_extension": ".py",
   "mimetype": "text/x-python",
   "name": "python",
   "nbconvert_exporter": "python",
   "pygments_lexer": "ipython3",
   "version": "3.11.9"
  }
 },
 "nbformat": 4,
 "nbformat_minor": 2
}
