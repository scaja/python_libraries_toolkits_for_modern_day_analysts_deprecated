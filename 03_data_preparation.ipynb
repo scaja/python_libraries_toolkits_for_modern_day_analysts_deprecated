{
 "cells": [
  {
   "cell_type": "markdown",
   "metadata": {},
   "source": [
    "### well structured - an ode to databases\n"
   ]
  },
  {
   "cell_type": "markdown",
   "metadata": {},
   "source": [
    "# data preparation"
   ]
  },
  {
   "cell_type": "markdown",
   "metadata": {},
   "source": [
    "### import libraries"
   ]
  },
  {
   "cell_type": "code",
   "execution_count": 175,
   "metadata": {},
   "outputs": [],
   "source": [
    "import sqlite3\n",
    "import pandas as pd\n",
    "import numpy as np\n",
    "import matplotlib.pyplot as plt\n",
    "import os\n",
    "%matplotlib inline"
   ]
  },
  {
   "cell_type": "markdown",
   "metadata": {},
   "source": [
    "## build stock preparation class"
   ]
  },
  {
   "cell_type": "code",
   "execution_count": 176,
   "metadata": {},
   "outputs": [],
   "source": [
    "class stock_prep:\n",
    "    def __init__(self, company_name):\n",
    "\n",
    "        # load data\n",
    "        self.company_stock_prices = pd.read_csv('data/' + company_name)[['Date', 'Close']] #input genauere Beschreibung\n",
    "        self.company_name = company_name\n",
    "\n",
    "        # return dfs\n",
    "        self.replace_company_stock_prices = []\n",
    "        self.avg_norm_loss_company_stock_prices = []\n",
    "        self.formatted_date_to_index = []\n",
    "        self.standardization_company_stock_prices = []\n",
    "        self.normalization_company_stock_prices = []\n",
    "        self.binning_company_stock_prices = []\n",
    "        self.indicator_variables_stock_prices = []\n",
    "\n",
    "    def pipeline_conductor(self,pipeline):\n",
    "        pass\n",
    "\n",
    "    def replace_values(self):\n",
    "        #print(self.company_stock_prices.head(5))\n",
    "        self.replace_company_stock_prices = self.company_stock_prices.replace(\"?\", np.nan)\n",
    "        #print(self.replace_company_stock_prices.head(5))\n",
    "\n",
    "    def missing_values_count(self):\n",
    "        self.missing_company_stock_prices = self.replace_company_stock_prices.isnull()\n",
    "        #print(self.missing_company_stock_prices.head(5))\n",
    "\n",
    "        for column in self.missing_company_stock_prices.columns.values.tolist():\n",
    "            print(column)\n",
    "            print (self.missing_company_stock_prices[column].value_counts()) \n",
    "\n",
    "    def avg_norm_loss(self):\n",
    "        avg_norm_loss = self.replace_company_stock_prices[\"Close\"].astype(\"float\").mean(axis=0)\n",
    "        #print(\"Average of normalized-losses:\", avg_norm_loss)\n",
    "        self.avg_norm_loss_company_stock_prices = pd.concat([self.replace_company_stock_prices['Date'], self.replace_company_stock_prices['Close'].replace(np.nan, avg_norm_loss)], axis=1)\n",
    "        #print(self.avg_norm_loss_company_stock_prices.head(5))\n",
    "\n",
    "    def format_date_to_index(self):\n",
    "        self.formatted_date_to_index = pd.concat([self.avg_norm_loss_company_stock_prices['Date'].str.replace('-', '', regex=True).astype(np.int64), self.avg_norm_loss_company_stock_prices['Close'].astype(np.float64)], axis=1)\n",
    "        #print(self.formatted_date_to_index.head(5))\n",
    "        #print(self.formatted_date_to_index.dtypes)\n",
    "\n",
    "    def standardization(self):\n",
    "        # currency dollar euro\n",
    "        self.standardization_company_stock_prices = pd.concat([self.formatted_date_to_index['Date'], (self.formatted_date_to_index['Date']/self.formatted_date_to_index[\"Close\"]).rename(\"Close\")], axis=1)\n",
    "        #print(self.standardization_company_stock_prices.head(5))\n",
    "        \n",
    "    def normalization(self):\n",
    "        # replace (original value) by (original value)/(maximum value)\n",
    "        self.normalization_company_stock_prices = pd.concat([self.formatted_date_to_index['Date'], (self.standardization_company_stock_prices['Close']/self.standardization_company_stock_prices['Close'].max()).rename(\"Close\")], axis=1)\n",
    "        #print(self.normalization_company_stock_prices.head(5))\n",
    "        \n",
    "    def binning(self):\n",
    "        # build bins\n",
    "        bins = np.linspace(min(self.normalization_company_stock_prices[\"Close\"]), max(self.normalization_company_stock_prices[\"Close\"]), 4)\n",
    "        group_names = [\"Low\", \"Medium\", \"High\"]\n",
    "        self.binning_company_stock_prices = pd.concat([self.formatted_date_to_index['Date'], (pd.cut(self.normalization_company_stock_prices['Close'], bins, labels = group_names, include_lowest= True)).rename(\"Close_binned\")], axis=1)\n",
    "        #print(self.binning_company_stock_prices.head(5))\n",
    "\n",
    "    def plot_bins(self):\n",
    "\n",
    "        plt.hist(self.binning_company_stock_prices[\"Close_binned\"], bins = 3)\n",
    "       \n",
    "        plt.xlabel(\"Date\")\n",
    "        plt.ylabel(\"Close\")\n",
    "        plt.title(\"Close_Price\")\n",
    "\n",
    "    def indicator_variables(self):\n",
    "        dummy_variable_1 = pd.get_dummies(self.binning_company_stock_prices[\"Close_binned\"])\n",
    "        dummy_variable_1.rename(columns={'Low':'close_price_low', 'Medium':'close_price_medium', 'High':'close_price_high'}, inplace=True)\n",
    "        self.indicator_variables_stock_prices = pd.concat([self.binning_company_stock_prices['Date'], dummy_variable_1], axis=1)\n",
    "        self.indicator_variables_stock_prices = self.indicator_variables_stock_prices.drop([\"close_price_low\"], axis = 1)\n",
    "        #print(self.indicator_variables_stock_prices.head(5))\n",
    "\n",
    "    def to_sqlite_database(self):\n",
    "        conn = sqlite3.connect('stocks_prep.db')\n",
    "        self.data['Close'].to_sql(name=self.company_name, con=conn, if_exists='replace')\n",
    "        conn.commit()\n",
    "        conn.close() "
   ]
  },
  {
   "cell_type": "code",
   "execution_count": 177,
   "metadata": {},
   "outputs": [],
   "source": [
    "stock_prep_obj = stock_prep('iShares Global Timber & Forestry UCITS ETF USD Acc.csv')"
   ]
  },
  {
   "cell_type": "markdown",
   "metadata": {},
   "source": [
    "## identify and handling missing values"
   ]
  },
  {
   "cell_type": "code",
   "execution_count": 178,
   "metadata": {},
   "outputs": [],
   "source": [
    "#replace missing values\n",
    "stock_prep_obj.replace_values()"
   ]
  },
  {
   "cell_type": "code",
   "execution_count": 179,
   "metadata": {},
   "outputs": [
    {
     "name": "stdout",
     "output_type": "stream",
     "text": [
      "Date\n",
      "Date\n",
      "False    609\n",
      "Name: count, dtype: int64\n",
      "Close\n",
      "Close\n",
      "False    608\n",
      "True       1\n",
      "Name: count, dtype: int64\n"
     ]
    }
   ],
   "source": [
    "#identify missing values\n",
    "stock_prep_obj.missing_values_count()"
   ]
  },
  {
   "cell_type": "code",
   "execution_count": 180,
   "metadata": {},
   "outputs": [],
   "source": [
    "#handling missing values\n",
    "stock_prep_obj.avg_norm_loss()"
   ]
  },
  {
   "cell_type": "markdown",
   "metadata": {},
   "source": [
    "## correct dataformat"
   ]
  },
  {
   "cell_type": "code",
   "execution_count": 181,
   "metadata": {},
   "outputs": [],
   "source": [
    "stock_prep_obj.format_date_to_index()"
   ]
  },
  {
   "cell_type": "markdown",
   "metadata": {},
   "source": [
    "## data standardization"
   ]
  },
  {
   "cell_type": "code",
   "execution_count": 182,
   "metadata": {},
   "outputs": [],
   "source": [
    "stock_prep_obj.standardization()\n"
   ]
  },
  {
   "cell_type": "markdown",
   "metadata": {},
   "source": [
    "# normalization"
   ]
  },
  {
   "cell_type": "code",
   "execution_count": 183,
   "metadata": {},
   "outputs": [],
   "source": [
    "stock_prep_obj.normalization()"
   ]
  },
  {
   "cell_type": "markdown",
   "metadata": {},
   "source": [
    "## binning"
   ]
  },
  {
   "cell_type": "code",
   "execution_count": 184,
   "metadata": {},
   "outputs": [
    {
     "data": {
      "image/png": "[encoded data removed]",
      "text/plain": [
       "<Figure size 640x480 with 1 Axes>"
      ]
     },
     "metadata": {},
     "output_type": "display_data"
    }
   ],
   "source": [
    "stock_prep_obj.binning()\n",
    "stock_prep_obj.plot_bins()"
   ]
  },
  {
   "cell_type": "markdown",
   "metadata": {},
   "source": [
    "## indicator Variables"
   ]
  },
  {
   "cell_type": "code",
   "execution_count": 185,
   "metadata": {},
   "outputs": [],
   "source": [
    "stock_prep_obj.indicator_variables()"
   ]
  },
  {
   "cell_type": "markdown",
   "metadata": {},
   "source": [
    "# store data in sqlite db"
   ]
  },
  {
   "cell_type": "code",
   "execution_count": 186,
   "metadata": {},
   "outputs": [
    {
     "name": "stdout",
     "output_type": "stream",
     "text": [
      "iShares Global Timber & Forestry UCITS ETF USD Acc.csv\n",
      "Date\n",
      "Date\n",
      "False    609\n",
      "Name: count, dtype: int64\n",
      "Close\n",
      "Close\n",
      "False    608\n",
      "True       1\n",
      "Name: count, dtype: int64\n",
      "Weyerhaeuser Company.csv\n",
      "Date\n",
      "Date\n",
      "False    605\n",
      "Name: count, dtype: int64\n",
      "Close\n",
      "Close\n",
      "False    605\n",
      "Name: count, dtype: int64\n",
      "Svenska Cellulosa Aktiebolaget SCA (publ).csv\n",
      "Date\n",
      "Date\n",
      "False    610\n",
      "Name: count, dtype: int64\n",
      "Close\n",
      "Close\n",
      "False    610\n",
      "Name: count, dtype: int64\n",
      "Suzano S.A..csv\n",
      "Date\n",
      "Date\n",
      "False    605\n",
      "Name: count, dtype: int64\n",
      "Close\n",
      "Close\n",
      "False    605\n",
      "Name: count, dtype: int64\n",
      "Smurfit Kappa Group Plc.csv\n",
      "Date\n",
      "Date\n",
      "False    614\n",
      "Name: count, dtype: int64\n",
      "Close\n",
      "Close\n",
      "False    614\n",
      "Name: count, dtype: int64\n",
      "International Paper Company.csv\n",
      "Date\n",
      "Date\n",
      "False    605\n",
      "Name: count, dtype: int64\n",
      "Close\n",
      "Close\n",
      "False    605\n",
      "Name: count, dtype: int64\n",
      "Stora Enso Oyj.csv\n",
      "Date\n",
      "Date\n",
      "False    609\n",
      "Name: count, dtype: int64\n",
      "Close\n",
      "Close\n",
      "False    609\n",
      "Name: count, dtype: int64\n",
      "Rayonier Inc..csv\n",
      "Date\n",
      "Date\n",
      "False    605\n",
      "Name: count, dtype: int64\n",
      "Close\n",
      "Close\n",
      "False    605\n",
      "Name: count, dtype: int64\n",
      "West Fraser Timber Co. Ltd..csv\n",
      "Date\n",
      "Date\n",
      "False    605\n",
      "Name: count, dtype: int64\n",
      "Close\n",
      "Close\n",
      "False    605\n",
      "Name: count, dtype: int64\n",
      "WestRock Company.csv\n",
      "Date\n",
      "Date\n",
      "False    605\n",
      "Name: count, dtype: int64\n",
      "Close\n",
      "Close\n",
      "False    605\n",
      "Name: count, dtype: int64\n",
      "PotlatchDeltic Corporation.csv\n",
      "Date\n",
      "Date\n",
      "False    605\n",
      "Name: count, dtype: int64\n",
      "Close\n",
      "Close\n",
      "False    605\n",
      "Name: count, dtype: int64\n"
     ]
    }
   ],
   "source": [
    "#ticker_symbols = ['WOOE.AS', 'WY', 'SCA-B.ST', 'SUZ', 'SK3.IR', 'IP', 'STERV.HE','RYN', 'WFG', 'WRK', 'PCH']\n",
    "file_names = os.listdir('data/')\n",
    "#print(file_names)\n",
    "\n",
    "for file_name in file_names:\n",
    "    print(file_name)\n",
    "    stock_prep_obj = stock_prep(file_name)\n",
    "\n",
    "    #replace missing values\n",
    "    stock_prep_obj.replace_values()\n",
    "    \n",
    "    #identify missing values\n",
    "    stock_prep_obj.missing_values_count()\n",
    "    \n",
    "    #handling missing values\n",
    "    stock_prep_obj.avg_norm_loss()\n",
    "\n",
    "        #data_format\n",
    "    stock_prep_obj.format_date_to_index()\n",
    "\n",
    "    #data standardization\n",
    "    stock_prep_obj.standardization()\n",
    "\n",
    "    #data normalization\n",
    "    stock_prep_obj.normalization()\n",
    "\n",
    "    #binning\n",
    "    stock_prep_obj.binning()\n",
    "    #stock_prep_obj.plot_bins()\n",
    "\n",
    "    #indicator variables\n",
    "    stock_prep_obj.indicator_variables()\n",
    "\n",
    "    #data in sqlite database\n",
    "    #stock_prep_obj.to_sqlite_database()\n"
   ]
  },
  {
   "cell_type": "code",
   "execution_count": null,
   "metadata": {},
   "outputs": [],
   "source": []
  }
 ],
 "metadata": {
  "kernelspec": {
   "display_name": "venv",
   "language": "python",
   "name": "python3"
  },
  "language_info": {
   "codemirror_mode": {
    "name": "ipython",
    "version": 3
   },
   "file_extension": ".py",
   "mimetype": "text/x-python",
   "name": "python",
   "nbconvert_exporter": "python",
   "pygments_lexer": "ipython3",
   "version": "3.11.9"
  }
 },
 "nbformat": 4,
 "nbformat_minor": 2
}
