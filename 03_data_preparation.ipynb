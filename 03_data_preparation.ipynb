{
 "cells": [
  {
   "cell_type": "markdown",
   "metadata": {},
   "source": [
    "### well structured - an ode to databases\n"
   ]
  },
  {
   "cell_type": "markdown",
   "metadata": {},
   "source": [
    "# data preparation"
   ]
  },
  {
   "cell_type": "markdown",
   "metadata": {},
   "source": [
    "### import libraries"
   ]
  },
  {
   "cell_type": "code",
   "execution_count": 510,
   "metadata": {},
   "outputs": [],
   "source": [
    "import sqlite3\n",
    "import pandas as pd\n",
    "import numpy as np\n",
    "import matplotlib.pyplot as plt\n",
    "import os\n",
    "%matplotlib inline"
   ]
  },
  {
   "cell_type": "markdown",
   "metadata": {},
   "source": [
    "## build stock preparation class"
   ]
  },
  {
   "cell_type": "code",
   "execution_count": 511,
   "metadata": {},
   "outputs": [],
   "source": [
    "class stock_prep:\n",
    "    def __init__(self, company_name):\n",
    "\n",
    "        # load data\n",
    "        self.company_stock_prices = pd.read_csv('data/' + company_name + '.csv')[['Date', 'Close']] #input genauere Beschreibung\n",
    "        self.company_name = company_name\n",
    "\n",
    "        # return dfs\n",
    "        self.replace_company_stock_prices = []\n",
    "        self.avg_norm_loss_company_stock_prices = []\n",
    "        self.formatted_date_to_index = []\n",
    "        self.standardization_company_stock_prices = []\n",
    "        self.normalization_company_stock_pricecs = []\n",
    "        self.binning_company_stock_prices = []\n",
    "        self.indicator_variables_stock_prices = []\n",
    "\n",
    "    def pipeline_conductor(self,pipeline):\n",
    "        pass\n",
    "\n",
    "    def replace_values(self):\n",
    "        print(self.company_stock_prices.head(5))\n",
    "        self.replace_company_stock_prices = self.company_stock_prices.replace(\"?\", np.nan)\n",
    "        print(self.replace_company_stock_prices.head(5))\n",
    "\n",
    "    def missing_values_count(self):\n",
    "        self.missing_company_stock_prices = self.replace_company_stock_prices.isnull()\n",
    "        print(self.missing_company_stock_prices.head(5))\n",
    "\n",
    "        for column in self.missing_company_stock_prices.columns.values.tolist():\n",
    "            print(column)\n",
    "            print (self.missing_company_stock_prices[column].value_counts()) \n",
    "\n",
    "    def avg_norm_loss(self):\n",
    "        avg_norm_loss = self.replace_company_stock_prices[\"Close\"].astype(\"float\").mean(axis=0)\n",
    "        print(\"Average of normalized-losses:\", avg_norm_loss)\n",
    "        print(self.replace_company_stock_prices['Date'])\n",
    "        self.avg_norm_loss_company_stock_prices = pd.concat([self.replace_company_stock_prices['Date'], self.replace_company_stock_prices['Close'].replace(np.nan, avg_norm_loss)], axis=1)\n",
    "        print(self.avg_norm_loss_company_stock_prices.head(5))\n",
    "\n",
    "    def format_date_to_index(self):\n",
    "        self.formatted_date_to_index = pd.concat([self.avg_norm_loss_company_stock_prices['Date'].str.replace('-', '', regex=True).astype(np.int64), self.avg_norm_loss_company_stock_prices['Close'].astype(np.float64)], axis=1)\n",
    "        print(self.formatted_date_to_index)\n",
    "        print(self.formatted_date_to_index.dtypes)\n",
    "\n",
    "    def standardization(self):\n",
    "        # currency dollar euro\n",
    "        self.standardization_company_stock_prices = pd.concat([self.formatted_date_to_index['Date'], (self.formatted_date_to_index['Date']/self.formatted_date_to_index[\"Close\"]).rename(\"Close\")], axis=1)\n",
    "        print(self.standardization_company_stock_prices)\n",
    "        \n",
    "    def normalization(self):\n",
    "        # replace (original value) by (original value)/(maximum value)\n",
    "        self.normalization_company_stock_pricecs['Close'] = self.standardization_company_stock_prices['Close']/self.standardization_company_stock_prices['Close'].max()\n",
    "        \n",
    "    def binning(self):\n",
    "        # build bins\n",
    "        self.binning_company_stock_prices = np.linspace(min(self.normalization_company_stock_pricecs[\"horsepower\"]), max(self.normalization_company_stock_pricecs[\"horsepower\"]), 4)\n",
    "\n",
    "    def plot_bins(self):\n",
    "\n",
    "        plt.pyplot.hist(self.normalization_company_stock_pricecs[\"Close\"], bins = 3)\n",
    "       \n",
    "        plt.pyplot.xlabel(\"Date\")\n",
    "        plt.pyplot.ylabel(\"Close\")\n",
    "        plt.pyplot.title(\"Close_Price\")\n",
    "\n",
    "    #def indicator_variables(self):\n",
    "        #dummy_variable_1 = pd.get_dummies(self.binning_company_stock_prices[\"Close\"])\n",
    "        #dummy_variable_1.head()\n",
    "        #dummy_variable_1.rename(columns={'Date':'fuel-type-gas', 'diesel':'fuel-type-diesel'}, inplace=True)\n",
    "        #dummy_variable_1.head()\n",
    "        # merge data frame \"df\" and \"dummy_variable_1\" \n",
    "        #df = pd.concat([df, dummy_variable_1], axis=1)\n",
    "\n",
    "        #drop original column \"fuel-type\" from \"df\"\n",
    "        #df.drop(\"fuel-type\", axis = 1, inplace=True)\n",
    "\n",
    "    def to_sqlite_database(self):\n",
    "        conn = sqlite3.connect('stocks_prep.db')\n",
    "        self.data['Close'].to_sql(name=self.company_name, con=conn, if_exists='replace')\n",
    "        conn.commit()\n",
    "        conn.close() "
   ]
  },
  {
   "cell_type": "code",
   "execution_count": 512,
   "metadata": {},
   "outputs": [],
   "source": [
    "stock_prep_obj = stock_prep('iShares Global Timber & Forestry UCITS ETF USD Acc')"
   ]
  },
  {
   "cell_type": "markdown",
   "metadata": {},
   "source": [
    "## identify and handling missing values"
   ]
  },
  {
   "cell_type": "code",
   "execution_count": 513,
   "metadata": {},
   "outputs": [
    {
     "name": "stdout",
     "output_type": "stream",
     "text": [
      "         Date               Close\n",
      "0  2021-11-05                   ?\n",
      "1  2021-11-08   30.70560073852539\n",
      "2  2021-11-09  30.667200088500977\n",
      "3  2021-11-10   30.44179916381836\n",
      "4  2021-11-11  30.740800857543945\n",
      "         Date               Close\n",
      "0  2021-11-05                 NaN\n",
      "1  2021-11-08   30.70560073852539\n",
      "2  2021-11-09  30.667200088500977\n",
      "3  2021-11-10   30.44179916381836\n",
      "4  2021-11-11  30.740800857543945\n"
     ]
    }
   ],
   "source": [
    "#replace missing values\n",
    "stock_prep_obj.replace_values()"
   ]
  },
  {
   "cell_type": "code",
   "execution_count": 514,
   "metadata": {},
   "outputs": [
    {
     "name": "stdout",
     "output_type": "stream",
     "text": [
      "    Date  Close\n",
      "0  False   True\n",
      "1  False  False\n",
      "2  False  False\n",
      "3  False  False\n",
      "4  False  False\n",
      "Date\n",
      "Date\n",
      "False    609\n",
      "Name: count, dtype: int64\n",
      "Close\n",
      "Close\n",
      "False    608\n",
      "True       1\n",
      "Name: count, dtype: int64\n"
     ]
    }
   ],
   "source": [
    "#identify missing values\n",
    "stock_prep_obj.missing_values_count()"
   ]
  },
  {
   "cell_type": "code",
   "execution_count": 515,
   "metadata": {},
   "outputs": [
    {
     "name": "stdout",
     "output_type": "stream",
     "text": [
      "Average of normalized-losses: 26.66417549472106\n",
      "0      2021-11-05\n",
      "1      2021-11-08\n",
      "2      2021-11-09\n",
      "3      2021-11-10\n",
      "4      2021-11-11\n",
      "          ...    \n",
      "604    2024-03-22\n",
      "605    2024-03-25\n",
      "606    2024-03-26\n",
      "607    2024-03-27\n",
      "608    2024-03-28\n",
      "Name: Date, Length: 609, dtype: object\n",
      "         Date               Close\n",
      "0  2021-11-05           26.664175\n",
      "1  2021-11-08   30.70560073852539\n",
      "2  2021-11-09  30.667200088500977\n",
      "3  2021-11-10   30.44179916381836\n",
      "4  2021-11-11  30.740800857543945\n"
     ]
    }
   ],
   "source": [
    "#handling missing values\n",
    "stock_prep_obj.avg_norm_loss()"
   ]
  },
  {
   "cell_type": "markdown",
   "metadata": {},
   "source": [
    "## correct dataformat"
   ]
  },
  {
   "cell_type": "code",
   "execution_count": 516,
   "metadata": {},
   "outputs": [
    {
     "name": "stdout",
     "output_type": "stream",
     "text": [
      "         Date      Close\n",
      "0    20211105  26.664175\n",
      "1    20211108  30.705601\n",
      "2    20211109  30.667200\n",
      "3    20211110  30.441799\n",
      "4    20211111  30.740801\n",
      "..        ...        ...\n",
      "604  20240322  28.428900\n",
      "605  20240325  28.478600\n",
      "606  20240326  28.685301\n",
      "607  20240327  28.638100\n",
      "608  20240328  28.737900\n",
      "\n",
      "[609 rows x 2 columns]\n",
      "Date       int64\n",
      "Close    float64\n",
      "dtype: object\n"
     ]
    }
   ],
   "source": [
    "stock_prep_obj.format_date_to_index()"
   ]
  },
  {
   "cell_type": "markdown",
   "metadata": {},
   "source": [
    "## data standardization"
   ]
  },
  {
   "cell_type": "code",
   "execution_count": 517,
   "metadata": {},
   "outputs": [
    {
     "name": "stdout",
     "output_type": "stream",
     "text": [
      "         Date          Close\n",
      "0    20211105  757987.247871\n",
      "1    20211108  658222.197706\n",
      "2    20211109  659046.438595\n",
      "3    20211110  663926.264385\n",
      "4    20211111  657468.590154\n",
      "..        ...            ...\n",
      "604  20240322  711962.902796\n",
      "605  20240325  710720.517196\n",
      "606  20240326  705599.223869\n",
      "607  20240327  706762.223504\n",
      "608  20240328  704307.835811\n",
      "\n",
      "[609 rows x 2 columns]\n"
     ]
    }
   ],
   "source": [
    "stock_prep_obj.standardization()\n"
   ]
  },
  {
   "cell_type": "markdown",
   "metadata": {},
   "source": [
    "## binning"
   ]
  },
  {
   "cell_type": "code",
   "execution_count": 518,
   "metadata": {},
   "outputs": [
    {
     "ename": "TypeError",
     "evalue": "list indices must be integers or slices, not str",
     "output_type": "error",
     "traceback": [
      "\u001b[0;31m---------------------------------------------------------------------------\u001b[0m",
      "\u001b[0;31mTypeError\u001b[0m                                 Traceback (most recent call last)",
      "Cell \u001b[0;32mIn[518], line 1\u001b[0m\n\u001b[0;32m----> 1\u001b[0m \u001b[43mstock_prep_obj\u001b[49m\u001b[38;5;241;43m.\u001b[39;49m\u001b[43mbinning\u001b[49m\u001b[43m(\u001b[49m\u001b[43m)\u001b[49m\n",
      "Cell \u001b[0;32mIn[511], line 56\u001b[0m, in \u001b[0;36mstock_prep.binning\u001b[0;34m(self)\u001b[0m\n\u001b[1;32m     54\u001b[0m \u001b[38;5;28;01mdef\u001b[39;00m \u001b[38;5;21mbinning\u001b[39m(\u001b[38;5;28mself\u001b[39m):\n\u001b[1;32m     55\u001b[0m     \u001b[38;5;66;03m# build bins\u001b[39;00m\n\u001b[0;32m---> 56\u001b[0m     \u001b[38;5;28mself\u001b[39m\u001b[38;5;241m.\u001b[39mbinning_company_stock_prices \u001b[38;5;241m=\u001b[39m np\u001b[38;5;241m.\u001b[39mlinspace(\u001b[38;5;28mmin\u001b[39m(\u001b[38;5;28;43mself\u001b[39;49m\u001b[38;5;241;43m.\u001b[39;49m\u001b[43mnormalization_company_stock_pricecs\u001b[49m\u001b[43m[\u001b[49m\u001b[38;5;124;43m\"\u001b[39;49m\u001b[38;5;124;43mhorsepower\u001b[39;49m\u001b[38;5;124;43m\"\u001b[39;49m\u001b[43m]\u001b[49m), \u001b[38;5;28mmax\u001b[39m(\u001b[38;5;28mself\u001b[39m\u001b[38;5;241m.\u001b[39mnormalization_company_stock_pricecs[\u001b[38;5;124m\"\u001b[39m\u001b[38;5;124mhorsepower\u001b[39m\u001b[38;5;124m\"\u001b[39m]), \u001b[38;5;241m4\u001b[39m)\n",
      "\u001b[0;31mTypeError\u001b[0m: list indices must be integers or slices, not str"
     ]
    }
   ],
   "source": [
    "stock_prep_obj.binning()"
   ]
  },
  {
   "cell_type": "markdown",
   "metadata": {},
   "source": [
    "## indicator Variables"
   ]
  },
  {
   "cell_type": "code",
   "execution_count": null,
   "metadata": {},
   "outputs": [],
   "source": [
    "stock_prep_obj.indicator_variables()"
   ]
  },
  {
   "cell_type": "markdown",
   "metadata": {},
   "source": [
    "# store data in sqlite db"
   ]
  },
  {
   "cell_type": "code",
   "execution_count": null,
   "metadata": {},
   "outputs": [],
   "source": [
    "ticker_symbols = ['WOOE.AS', 'WY', 'SCA-B.ST', 'SUZ', 'SK3.IR', 'IP', 'STERV.HE','RYN', 'WFG', 'WRK', 'PCH']\n",
    "os.listdir(path)\n",
    "\n",
    "for i in range(len(ticker_symbols)): \n",
    "    stock_obj = stock_prep(ticker_symbols[i])\n",
    "    #identify missing values\n",
    "    stock_prep_obj.missing_values_count()\n",
    "\n",
    "    #handling missing values\n",
    "    stock_prep_obj.avg_norm_loss()\n",
    "\n",
    "    #handling normalized loses\n",
    "    stock_prep_obj.normalized_loses()\n",
    "\n",
    "    #data_format\n",
    "    stock_prep_obj.data_format()\n",
    "\n",
    "    #data standardization\n",
    "    stock_prep_obj.standardization()\n",
    "\n",
    "    #binning\n",
    "    stock_prep_obj.binning()\n",
    "\n",
    "    #indicator variables\n",
    "    stock_prep_obj.indicator_variables()\n",
    "\n",
    "    #data in sqlite database\n",
    "    stock_prep_obj.to_sqlite_database()\n"
   ]
  }
 ],
 "metadata": {
  "kernelspec": {
   "display_name": "venv",
   "language": "python",
   "name": "python3"
  },
  "language_info": {
   "codemirror_mode": {
    "name": "ipython",
    "version": 3
   },
   "file_extension": ".py",
   "mimetype": "text/x-python",
   "name": "python",
   "nbconvert_exporter": "python",
   "pygments_lexer": "ipython3",
   "version": "3.11.9"
  }
 },
 "nbformat": 4,
 "nbformat_minor": 2
}
