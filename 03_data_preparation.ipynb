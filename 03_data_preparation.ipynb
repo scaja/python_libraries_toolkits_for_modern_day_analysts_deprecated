{
 "cells": [
  {
   "cell_type": "markdown",
   "metadata": {},
   "source": [
    "### well structured - an ode to databases\n"
   ]
  },
  {
   "cell_type": "markdown",
   "metadata": {},
   "source": [
    "# data preparation"
   ]
  },
  {
   "cell_type": "markdown",
   "metadata": {},
   "source": [
    "### import libraries"
   ]
  },
  {
   "cell_type": "code",
   "execution_count": 683,
   "metadata": {},
   "outputs": [],
   "source": [
    "import yfinance as yf\n",
    "import sqlite3\n",
    "import pandas as pd\n",
    "import numpy as np\n",
    "import matplotlib.pyplot as plt\n",
    "import os\n",
    "%matplotlib inline"
   ]
  },
  {
   "cell_type": "markdown",
   "metadata": {},
   "source": [
    "### build stock preparation class"
   ]
  },
  {
   "cell_type": "code",
   "execution_count": 684,
   "metadata": {},
   "outputs": [],
   "source": [
    "class stock_prep:\n",
    "    def __init__(self, ticker_symbol):\n",
    "       \n",
    "        # load data\n",
    "        self.ticker_symbol = ticker_symbol\n",
    "        self.company_name = yf.Ticker(self.ticker_symbol).info['longName'].replace(r'/', ' ')\n",
    "        self.currency = yf.Ticker(self.ticker_symbol).info['currency']\n",
    "\n",
    "\n",
    "        # return dfs\n",
    "        self.company_stock_prices = []\n",
    "        self.trim_company_stock_price = []\n",
    "        self.replace_company_stock_prices = []\n",
    "        self.missing_company_stock_prices = []\n",
    "        self.avg_norm_loss_company_stock_prices = []\n",
    "        self.formatted_date_to_index = []\n",
    "        self.standardization_company_stock_prices = []\n",
    "        self.normalization_company_stock_prices = []\n",
    "        self.binning_company_stock_prices = []\n",
    "        self.indicator_variables_stock_prices = []\n",
    "        self.to_sql_stock_prices = []\n",
    "\n",
    "    # ------------------------ DATABASE -----------------------------------------\n",
    "        \n",
    "    def to_sqlite_database(self, db_name):\n",
    "\n",
    "        conn = sqlite3.connect(db_name)\n",
    "        self.to_sql_stock_prices.to_sql(name=self.company_name, con=conn, if_exists='replace')\n",
    "        conn.commit()\n",
    "        conn.close() \n",
    "\n",
    "    def read_sqlite_database(self, ticker_symbol, db_name, columns):\n",
    "               \n",
    "        company_name = yf.Ticker(ticker_symbol).info['longName'].replace(r'/', ' ')\n",
    "        conn = sqlite3.connect(db_name)\n",
    "        sql = \"SELECT \" + columns + \" FROM `\" + company_name + \"`\"\n",
    "        result = pd.read_sql(sql,conn)\n",
    "        return result\n",
    "       \n",
    "    # ------------------------ DATA ----------------------------------------- \n",
    "    \n",
    "    def replace_values(self):\n",
    "        self.company_stock_prices = self.read_sqlite_database(self.ticker_symbol, 'stocks_prep.db', 'date, `close_trim_' + self.ticker_symbol + '`')\n",
    "        self.replace_company_stock_prices = self.company_stock_prices.replace(\"Null\", np.nan)\n",
    "        \n",
    "    def missing_values_count(self):\n",
    "\n",
    "        # count missing values\n",
    "        self.missing_company_stock_prices = self.replace_company_stock_prices.isnull()\n",
    "        self.missing_company_stock_prices = self.missing_company_stock_prices['close_trim_' + self.ticker_symbol].value_counts()\n",
    "            \n",
    "    def avg_norm_loss(self):\n",
    "\n",
    "        # calculate mean and replace missing values\n",
    "        aux_var_avg_norm_loss = self.replace_company_stock_prices['close_trim_' + self.ticker_symbol].astype(\"float\").mean(axis=0)\n",
    "        self.avg_norm_loss_company_stock_prices = self.replace_company_stock_prices['close_trim_' + self.ticker_symbol].replace(np.nan, aux_var_avg_norm_loss)\n",
    "\n",
    "        # rename Series for df\n",
    "        first_item = self.replace_company_stock_prices['date'] \n",
    "        second_item = self.avg_norm_loss_company_stock_prices \n",
    "\n",
    "        # build df\n",
    "        self.avg_norm_loss_company_stock_prices = pd.concat([first_item, second_item], axis=1) \n",
    "        \n",
    "    def standardization(self):\n",
    "        \n",
    "        aux_var_euro_dollar = self.read_sqlite_database('EURUSD=X', 'stocks_prep.db', 'date, `close_trim_EURUSD=X`')\n",
    "        \n",
    "        # standardize close_avg_norm_loss\n",
    "        aux_var_form_ind = self.avg_norm_loss_company_stock_prices['close_trim_' + self.ticker_symbol]/aux_var_euro_dollar['close_trim_EURUSD=X']\n",
    "    \n",
    "        # rename Series for df\n",
    "        first_item = self.avg_norm_loss_company_stock_prices\n",
    "        second_item =  aux_var_form_ind.rename(\"close_stand_\" + self.ticker_symbol)\n",
    "\n",
    "        # build df        \n",
    "        self.standardization_company_stock_prices = pd.concat([first_item, second_item], axis=1)\n",
    "        \n",
    "    def normalization(self):\n",
    "\n",
    "        # replace (original value) by (original value)/(maximum value)\n",
    "        aux_var_norm_close = self.standardization_company_stock_prices['close_stand_' + self.ticker_symbol]/self.standardization_company_stock_prices['close_stand_' + self.ticker_symbol].max()\n",
    "\n",
    "        # rename Series for df\n",
    "        first_item = self.standardization_company_stock_prices\n",
    "        second_item = aux_var_norm_close.rename(\"close_normal_\" + self.ticker_symbol)\n",
    "\n",
    "        # build df\n",
    "        self.normalization_company_stock_prices = pd.concat([first_item, second_item], axis=1)\n",
    "        \n",
    "    def binning(self):\n",
    "\n",
    "        # build bins\n",
    "        aux_var_bins = np.linspace(min(self.normalization_company_stock_prices[\"close_normal_\"  + self.ticker_symbol]), max(self.normalization_company_stock_prices[\"close_normal_\" + self.ticker_symbol]), 4)\n",
    "        aux_var_group_names = [\"Low\", \"Medium\", \"High\"]\n",
    "        aux_var_build_bins = pd.cut(self.normalization_company_stock_prices['close_normal_' + self.ticker_symbol], aux_var_bins, labels = aux_var_group_names, include_lowest= True)\n",
    "        \n",
    "        # rename Series for df\n",
    "        first_item = self.normalization_company_stock_prices\n",
    "        second_item = aux_var_build_bins.rename(\"close_binned_\" + self.ticker_symbol)\n",
    "\n",
    "        # build df\n",
    "        self.binning_company_stock_prices = pd.concat([first_item, second_item], axis=1)\n",
    "\n",
    "    def indicator_variables(self):\n",
    "\n",
    "        # build indicators\n",
    "        aux_var_indi = pd.get_dummies(self.binning_company_stock_prices[\"close_binned_\" + self.ticker_symbol])\n",
    "        aux_var_drop = self.binning_company_stock_prices.drop(['close_binned_' + self.ticker_symbol], axis = 1)\n",
    "\n",
    "        # rename Series for df\n",
    "        first_item = aux_var_drop\n",
    "        second_item = aux_var_indi #.rename(columns={'Medium':'close_price_medium', 'High':'close_price_high'}, inplace=True)\n",
    "\n",
    "        # # build df\n",
    "        self.indicator_variables_stock_prices = pd.concat([first_item, second_item], axis=1)\n",
    "\n",
    "    def trim_same_length(self, ticker_symbols):\n",
    "        \n",
    "        # load data\n",
    "        first_aux_var_corr = self.read_sqlite_database(self.ticker_symbol, 'stocks_orig.db', 'Date, Close')\n",
    "        \n",
    "        # rename Series for df\n",
    "        first_item = first_aux_var_corr.rename(columns={\"Date\" : \"date\", \"Close\": \"close_trim_\" + self.ticker_symbol})\n",
    "        \n",
    "        for ticker_symbol in ticker_symbols:\n",
    "\n",
    "            # load data\n",
    "            second_aux_var_corr = self.read_sqlite_database(ticker_symbol, 'stocks_orig.db', 'Date, Close') \n",
    "\n",
    "            # rename Series for df\n",
    "            second_item = second_aux_var_corr.rename(columns={\"Date\" : \"date\", \"Close\": \"close_trim_\" + ticker_symbol})\n",
    "\n",
    "            # build df\n",
    "            first_item = pd.merge(first_item, second_item, how = \"outer\", on = ['date', 'date'])\n",
    "\n",
    "        # load data\n",
    "        second_item = self.read_sqlite_database('EURUSD=X', 'stocks_orig.db', 'Date, Close')\n",
    "        \n",
    "        # rename Series for df\n",
    "        second_item = second_item.rename(columns={\"Date\" : \"date\", \"Close\": \"close_trim_EURUSD=X\"})\n",
    "\n",
    "        self.trim_company_stock_price = pd.merge(first_item, second_item, how = \"left\", on = ['date', 'date'])\n",
    "\n",
    "        self.trim_company_stock_price\n",
    "\n",
    "    # ------------------------ VISUALISATION -----------------------------------------\n",
    "\n",
    "    def plot_bins_hist(self):\n",
    "        \n",
    "        plt.hist(self.binning_company_stock_prices[\"close_binned_\" + self.ticker_symbol], bins = 3)\n",
    "       \n",
    "        plt.xlabel(\"amount\")\n",
    "        plt.ylabel(\"close_binned_\" + self.ticker_symbol)\n",
    "        plt.title(\"Close_Price_Categories\")     \n",
    "    \n",
    "\n",
    "    "
   ]
  },
  {
   "cell_type": "markdown",
   "metadata": {},
   "source": [
    "### trim length"
   ]
  },
  {
   "cell_type": "code",
   "execution_count": 685,
   "metadata": {},
   "outputs": [
    {
     "data": {
      "text/html": [
       "<div>\n",
       "<style scoped>\n",
       "    .dataframe tbody tr th:only-of-type {\n",
       "        vertical-align: middle;\n",
       "    }\n",
       "\n",
       "    .dataframe tbody tr th {\n",
       "        vertical-align: top;\n",
       "    }\n",
       "\n",
       "    .dataframe thead th {\n",
       "        text-align: right;\n",
       "    }\n",
       "</style>\n",
       "<table border=\"1\" class=\"dataframe\">\n",
       "  <thead>\n",
       "    <tr style=\"text-align: right;\">\n",
       "      <th></th>\n",
       "      <th>date</th>\n",
       "      <th>close_trim_WOOE.AS</th>\n",
       "      <th>close_trim_WY</th>\n",
       "      <th>close_trim_SCA-B.ST</th>\n",
       "      <th>close_trim_SUZ</th>\n",
       "      <th>close_trim_SK3.IR</th>\n",
       "      <th>close_trim_IP</th>\n",
       "      <th>close_trim_STERV.HE</th>\n",
       "      <th>close_trim_RYN</th>\n",
       "      <th>close_trim_WFG</th>\n",
       "      <th>close_trim_WRK</th>\n",
       "      <th>close_trim_PCH</th>\n",
       "      <th>close_trim_EURUSD=X</th>\n",
       "    </tr>\n",
       "  </thead>\n",
       "  <tbody>\n",
       "    <tr>\n",
       "      <th>0</th>\n",
       "      <td>2021-11-01 00:00:00</td>\n",
       "      <td>NaN</td>\n",
       "      <td>36.980000</td>\n",
       "      <td>138.649994</td>\n",
       "      <td>8.70</td>\n",
       "      <td>45.939999</td>\n",
       "      <td>49.099998</td>\n",
       "      <td>14.50</td>\n",
       "      <td>37.990002</td>\n",
       "      <td>80.120003</td>\n",
       "      <td>47.790001</td>\n",
       "      <td>53.889999</td>\n",
       "      <td>1.155668</td>\n",
       "    </tr>\n",
       "    <tr>\n",
       "      <th>1</th>\n",
       "      <td>2021-11-02 00:00:00</td>\n",
       "      <td>NaN</td>\n",
       "      <td>36.150002</td>\n",
       "      <td>135.500000</td>\n",
       "      <td>8.64</td>\n",
       "      <td>45.490002</td>\n",
       "      <td>48.950001</td>\n",
       "      <td>14.31</td>\n",
       "      <td>37.669998</td>\n",
       "      <td>80.250000</td>\n",
       "      <td>47.139999</td>\n",
       "      <td>53.250000</td>\n",
       "      <td>1.159958</td>\n",
       "    </tr>\n",
       "    <tr>\n",
       "      <th>2</th>\n",
       "      <td>2021-11-03 00:00:00</td>\n",
       "      <td>NaN</td>\n",
       "      <td>38.270000</td>\n",
       "      <td>137.250000</td>\n",
       "      <td>8.94</td>\n",
       "      <td>45.470001</td>\n",
       "      <td>49.910000</td>\n",
       "      <td>14.51</td>\n",
       "      <td>39.400002</td>\n",
       "      <td>83.269997</td>\n",
       "      <td>48.419998</td>\n",
       "      <td>56.880001</td>\n",
       "      <td>1.157943</td>\n",
       "    </tr>\n",
       "    <tr>\n",
       "      <th>3</th>\n",
       "      <td>2021-11-04 00:00:00</td>\n",
       "      <td>NaN</td>\n",
       "      <td>38.139999</td>\n",
       "      <td>134.949997</td>\n",
       "      <td>8.78</td>\n",
       "      <td>45.520000</td>\n",
       "      <td>48.750000</td>\n",
       "      <td>14.36</td>\n",
       "      <td>39.299999</td>\n",
       "      <td>83.349998</td>\n",
       "      <td>47.970001</td>\n",
       "      <td>56.889999</td>\n",
       "      <td>1.161575</td>\n",
       "    </tr>\n",
       "    <tr>\n",
       "      <th>4</th>\n",
       "      <td>2021-11-05 00:00:00</td>\n",
       "      <td>30.7094</td>\n",
       "      <td>38.330002</td>\n",
       "      <td>133.550003</td>\n",
       "      <td>8.95</td>\n",
       "      <td>45.070000</td>\n",
       "      <td>48.869999</td>\n",
       "      <td>14.46</td>\n",
       "      <td>38.930000</td>\n",
       "      <td>83.639999</td>\n",
       "      <td>48.759998</td>\n",
       "      <td>56.990002</td>\n",
       "      <td>1.155535</td>\n",
       "    </tr>\n",
       "  </tbody>\n",
       "</table>\n",
       "</div>"
      ],
      "text/plain": [
       "                  date  close_trim_WOOE.AS  close_trim_WY  \\\n",
       "0  2021-11-01 00:00:00                 NaN      36.980000   \n",
       "1  2021-11-02 00:00:00                 NaN      36.150002   \n",
       "2  2021-11-03 00:00:00                 NaN      38.270000   \n",
       "3  2021-11-04 00:00:00                 NaN      38.139999   \n",
       "4  2021-11-05 00:00:00             30.7094      38.330002   \n",
       "\n",
       "   close_trim_SCA-B.ST  close_trim_SUZ  close_trim_SK3.IR  close_trim_IP  \\\n",
       "0           138.649994            8.70          45.939999      49.099998   \n",
       "1           135.500000            8.64          45.490002      48.950001   \n",
       "2           137.250000            8.94          45.470001      49.910000   \n",
       "3           134.949997            8.78          45.520000      48.750000   \n",
       "4           133.550003            8.95          45.070000      48.869999   \n",
       "\n",
       "   close_trim_STERV.HE  close_trim_RYN  close_trim_WFG  close_trim_WRK  \\\n",
       "0                14.50       37.990002       80.120003       47.790001   \n",
       "1                14.31       37.669998       80.250000       47.139999   \n",
       "2                14.51       39.400002       83.269997       48.419998   \n",
       "3                14.36       39.299999       83.349998       47.970001   \n",
       "4                14.46       38.930000       83.639999       48.759998   \n",
       "\n",
       "   close_trim_PCH  close_trim_EURUSD=X  \n",
       "0       53.889999             1.155668  \n",
       "1       53.250000             1.159958  \n",
       "2       56.880001             1.157943  \n",
       "3       56.889999             1.161575  \n",
       "4       56.990002             1.155535  "
      ]
     },
     "execution_count": 685,
     "metadata": {},
     "output_type": "execute_result"
    }
   ],
   "source": [
    "stock_prep_obj = stock_prep('WOOE.AS')\n",
    "ticker_symbols = ['WY', 'SCA-B.ST' , 'SUZ', 'SK3.IR', 'IP', 'STERV.HE','RYN', 'WFG', 'WRK', 'PCH']\n",
    "\n",
    "# trim lenght \n",
    "stock_prep_obj.trim_same_length(ticker_symbols)\n",
    "aux_val_company_stock_price = stock_prep_obj.trim_company_stock_price\n",
    "aux_val_company_stock_price.head() "
   ]
  },
  {
   "cell_type": "code",
   "execution_count": 686,
   "metadata": {},
   "outputs": [
    {
     "data": {
      "text/plain": [
       "count                     624\n",
       "unique                    624\n",
       "top       2021-11-01 00:00:00\n",
       "freq                        1\n",
       "Name: date, dtype: object"
      ]
     },
     "execution_count": 686,
     "metadata": {},
     "output_type": "execute_result"
    }
   ],
   "source": [
    "stock_prep_obj.trim_company_stock_price['date'].describe()"
   ]
  },
  {
   "cell_type": "markdown",
   "metadata": {},
   "source": [
    "<font color='#5891db'>Using the common date column, all data records can be expanded to a common length of 624.</font>"
   ]
  },
  {
   "cell_type": "markdown",
   "metadata": {},
   "source": [
    "### store values in database"
   ]
  },
  {
   "cell_type": "code",
   "execution_count": 687,
   "metadata": {},
   "outputs": [],
   "source": [
    "ticker_symbols = ['WOOE.AS', 'WY', 'SCA-B.ST' , 'SUZ', 'SK3.IR', 'IP', 'STERV.HE','RYN', 'WFG', 'WRK', 'PCH', 'EURUSD=X']\n",
    "aux_val_company_stock_price\n",
    "\n",
    "for ticker_symbol in ticker_symbols:\n",
    "    stock_prep_obj = stock_prep(ticker_symbol)\n",
    "    stock_prep_obj.to_sql_stock_prices = aux_val_company_stock_price[['date','close_trim_' + ticker_symbol]]\n",
    "    stock_prep_obj.to_sqlite_database('stocks_prep.db')"
   ]
  },
  {
   "cell_type": "markdown",
   "metadata": {},
   "source": [
    "### handling missing values"
   ]
  },
  {
   "cell_type": "code",
   "execution_count": 688,
   "metadata": {},
   "outputs": [],
   "source": [
    "stock_prep_obj = stock_prep('EURUSD=X')"
   ]
  },
  {
   "cell_type": "code",
   "execution_count": 689,
   "metadata": {},
   "outputs": [
    {
     "name": "stdout",
     "output_type": "stream",
     "text": [
      "                  date  close_trim_EURUSD=X\n",
      "0  2021-11-01 00:00:00             1.155668\n",
      "1  2021-11-02 00:00:00             1.159958\n",
      "2  2021-11-03 00:00:00             1.157943\n",
      "3  2021-11-04 00:00:00             1.161575\n",
      "4  2021-11-05 00:00:00             1.155535\n"
     ]
    }
   ],
   "source": [
    "# replace missing values\n",
    "stock_prep_obj.replace_values()\n",
    "stock_prep_obj.avg_norm_loss()\n",
    "print(stock_prep_obj.avg_norm_loss_company_stock_prices.head(5))\n"
   ]
  },
  {
   "cell_type": "markdown",
   "metadata": {},
   "source": [
    "<font color='#5891db'>Missing values ​​are replaced with the average value.</font>"
   ]
  },
  {
   "cell_type": "code",
   "execution_count": 691,
   "metadata": {},
   "outputs": [],
   "source": [
    "stock_prep_obj.to_sql_stock_prices = stock_prep_obj.avg_norm_loss_company_stock_prices\n",
    "stock_prep_obj.to_sqlite_database('stocks_prep.db')"
   ]
  },
  {
   "cell_type": "markdown",
   "metadata": {},
   "source": [
    "### identify and handling missing values"
   ]
  },
  {
   "cell_type": "code",
   "execution_count": 692,
   "metadata": {},
   "outputs": [],
   "source": [
    "stock_prep_obj = stock_prep('WOOE.AS')"
   ]
  },
  {
   "cell_type": "code",
   "execution_count": 693,
   "metadata": {},
   "outputs": [
    {
     "name": "stdout",
     "output_type": "stream",
     "text": [
      "                  date  close_trim_WOOE.AS\n",
      "0  2021-11-01 00:00:00                 NaN\n",
      "1  2021-11-02 00:00:00                 NaN\n",
      "2  2021-11-03 00:00:00                 NaN\n",
      "3  2021-11-04 00:00:00                 NaN\n",
      "4  2021-11-05 00:00:00             30.7094\n"
     ]
    }
   ],
   "source": [
    "# replace missing values\n",
    "stock_prep_obj.replace_values()\n",
    "print(stock_prep_obj.replace_company_stock_prices.head(5))"
   ]
  },
  {
   "cell_type": "code",
   "execution_count": 694,
   "metadata": {},
   "outputs": [
    {
     "name": "stdout",
     "output_type": "stream",
     "text": [
      "close_trim_WOOE.AS\n",
      "False    609\n",
      "True      15\n",
      "Name: count, dtype: int64\n"
     ]
    }
   ],
   "source": [
    "# identify missing values\n",
    "stock_prep_obj.missing_values_count()\n",
    "print(stock_prep_obj.missing_company_stock_prices)"
   ]
  },
  {
   "cell_type": "code",
   "execution_count": 695,
   "metadata": {},
   "outputs": [
    {
     "name": "stdout",
     "output_type": "stream",
     "text": [
      "                  date  close_trim_WOOE.AS\n",
      "0  2021-11-01 00:00:00           26.670818\n",
      "1  2021-11-02 00:00:00           26.670818\n",
      "2  2021-11-03 00:00:00           26.670818\n",
      "3  2021-11-04 00:00:00           26.670818\n",
      "4  2021-11-05 00:00:00           30.709400\n"
     ]
    }
   ],
   "source": [
    "# handling missing values\n",
    "stock_prep_obj.avg_norm_loss()\n",
    "print(stock_prep_obj.avg_norm_loss_company_stock_prices.head(5))"
   ]
  },
  {
   "cell_type": "markdown",
   "metadata": {},
   "source": [
    "<font color='#5891db'>Missing values ​​are replaced with the average value.</font>"
   ]
  },
  {
   "cell_type": "markdown",
   "metadata": {},
   "source": [
    "### data standardization"
   ]
  },
  {
   "cell_type": "code",
   "execution_count": 696,
   "metadata": {},
   "outputs": [
    {
     "name": "stdout",
     "output_type": "stream",
     "text": [
      "                  date  close_trim_WOOE.AS  close_stand_WOOE.AS\n",
      "0  2021-11-01 00:00:00           26.670818            23.078260\n",
      "1  2021-11-02 00:00:00           26.670818            22.992912\n",
      "2  2021-11-03 00:00:00           26.670818            23.032918\n",
      "3  2021-11-04 00:00:00           26.670818            22.960907\n",
      "4  2021-11-05 00:00:00           30.709400            26.575916\n"
     ]
    }
   ],
   "source": [
    "stock_prep_obj.standardization()\n",
    "print(stock_prep_obj.standardization_company_stock_prices.head(5))\n"
   ]
  },
  {
   "cell_type": "markdown",
   "metadata": {},
   "source": [
    "<font color='#5891db'>The price of the shares and the ETF are given in US dollars and are transformed into euros.</font>"
   ]
  },
  {
   "cell_type": "markdown",
   "metadata": {},
   "source": [
    "### normalization"
   ]
  },
  {
   "cell_type": "code",
   "execution_count": 697,
   "metadata": {},
   "outputs": [
    {
     "name": "stdout",
     "output_type": "stream",
     "text": [
      "                  date  close_trim_WOOE.AS  close_stand_WOOE.AS  \\\n",
      "0  2021-11-01 00:00:00           26.670818            23.078260   \n",
      "1  2021-11-02 00:00:00           26.670818            22.992912   \n",
      "2  2021-11-03 00:00:00           26.670818            23.032918   \n",
      "3  2021-11-04 00:00:00           26.670818            22.960907   \n",
      "4  2021-11-05 00:00:00           30.709400            26.575916   \n",
      "\n",
      "   close_normal_WOOE.AS  \n",
      "0              0.780673  \n",
      "1              0.777786  \n",
      "2              0.779139  \n",
      "3              0.776703  \n",
      "4              0.898989  \n"
     ]
    }
   ],
   "source": [
    "stock_prep_obj.normalization()\n",
    "print(stock_prep_obj.normalization_company_stock_prices.head(5))"
   ]
  },
  {
   "cell_type": "markdown",
   "metadata": {},
   "source": [
    "<font color='#5891db'>To ensure that all individual stocks have the same influence on the ETF, their values ​​are normalized by simple feature scaling</font>"
   ]
  },
  {
   "cell_type": "markdown",
   "metadata": {},
   "source": [
    "### binning"
   ]
  },
  {
   "cell_type": "code",
   "execution_count": 698,
   "metadata": {},
   "outputs": [
    {
     "name": "stdout",
     "output_type": "stream",
     "text": [
      "                  date  close_trim_WOOE.AS  close_stand_WOOE.AS  \\\n",
      "0  2021-11-01 00:00:00           26.670818            23.078260   \n",
      "1  2021-11-02 00:00:00           26.670818            22.992912   \n",
      "2  2021-11-03 00:00:00           26.670818            23.032918   \n",
      "3  2021-11-04 00:00:00           26.670818            22.960907   \n",
      "4  2021-11-05 00:00:00           30.709400            26.575916   \n",
      "\n",
      "   close_normal_WOOE.AS close_binned_WOOE.AS  \n",
      "0              0.780673                  Low  \n",
      "1              0.777786                  Low  \n",
      "2              0.779139                  Low  \n",
      "3              0.776703                  Low  \n",
      "4              0.898989                 High  \n"
     ]
    },
    {
     "data": {
      "image/png": "[encoded data removed]",
      "text/plain": [
       "<Figure size 640x480 with 1 Axes>"
      ]
     },
     "metadata": {},
     "output_type": "display_data"
    }
   ],
   "source": [
    "stock_prep_obj.binning()\n",
    "print(stock_prep_obj.binning_company_stock_prices.head(5))\n",
    "stock_prep_obj.plot_bins_hist()"
   ]
  },
  {
   "cell_type": "markdown",
   "metadata": {},
   "source": [
    "<font color='#5891db'>The data is divided into 3 equal number ranges within the price interval. The price category medium contains the most values.</font>"
   ]
  },
  {
   "cell_type": "markdown",
   "metadata": {},
   "source": [
    "### indicator Variables"
   ]
  },
  {
   "cell_type": "code",
   "execution_count": 699,
   "metadata": {},
   "outputs": [
    {
     "name": "stdout",
     "output_type": "stream",
     "text": [
      "                  date  close_trim_WOOE.AS  close_stand_WOOE.AS  \\\n",
      "0  2021-11-01 00:00:00           26.670818            23.078260   \n",
      "1  2021-11-02 00:00:00           26.670818            22.992912   \n",
      "2  2021-11-03 00:00:00           26.670818            23.032918   \n",
      "3  2021-11-04 00:00:00           26.670818            22.960907   \n",
      "4  2021-11-05 00:00:00           30.709400            26.575916   \n",
      "\n",
      "   close_normal_WOOE.AS    Low  Medium   High  \n",
      "0              0.780673   True   False  False  \n",
      "1              0.777786   True   False  False  \n",
      "2              0.779139   True   False  False  \n",
      "3              0.776703   True   False  False  \n",
      "4              0.898989  False   False   True  \n"
     ]
    }
   ],
   "source": [
    "stock_prep_obj.indicator_variables()\n",
    "print(stock_prep_obj.indicator_variables_stock_prices.head(5))"
   ]
  },
  {
   "cell_type": "markdown",
   "metadata": {},
   "source": [
    "<font color='#5891db'>The categorical variables are now converted to numerical values, as numbers are commonly used when building a model.</font>"
   ]
  },
  {
   "cell_type": "markdown",
   "metadata": {},
   "source": [
    "### store in  stock_prep db"
   ]
  },
  {
   "cell_type": "code",
   "execution_count": 700,
   "metadata": {},
   "outputs": [],
   "source": [
    "stock_prep_obj.to_sql_stock_prices = stock_prep_obj.indicator_variables_stock_prices\n",
    "stock_prep_obj.to_sqlite_database('stocks_prep.db')"
   ]
  },
  {
   "cell_type": "markdown",
   "metadata": {},
   "source": [
    "### store data in sqlite db"
   ]
  },
  {
   "cell_type": "code",
   "execution_count": 701,
   "metadata": {},
   "outputs": [
    {
     "name": "stdout",
     "output_type": "stream",
     "text": [
      "stored in stocks_prep db: WY\n",
      "stored in stocks_prep db: SCA-B.ST\n",
      "stored in stocks_prep db: SUZ\n",
      "stored in stocks_prep db: SK3.IR\n",
      "stored in stocks_prep db: IP\n",
      "stored in stocks_prep db: STERV.HE\n",
      "stored in stocks_prep db: RYN\n",
      "stored in stocks_prep db: WFG\n",
      "stored in stocks_prep db: WRK\n",
      "stored in stocks_prep db: PCH\n"
     ]
    }
   ],
   "source": [
    "ticker_symbols = ['WY', 'SCA-B.ST', 'SUZ', 'SK3.IR', 'IP', 'STERV.HE','RYN', 'WFG', 'WRK', 'PCH']\n",
    "#file_names = os.listdir('data/')\n",
    "#print(file_names)\n",
    "\n",
    "for ticker_symbol in ticker_symbols:\n",
    "\n",
    "    # call init class\n",
    "    stock_prep_obj = stock_prep(ticker_symbol)\n",
    "\n",
    "    # replace missing values\n",
    "    stock_prep_obj.replace_values()\n",
    "    \n",
    "    # identify missing values\n",
    "    stock_prep_obj.missing_values_count()\n",
    "    \n",
    "    # handling missing values\n",
    "    stock_prep_obj.avg_norm_loss()\n",
    "\n",
    "    # data standardization\n",
    "    stock_prep_obj.standardization()\n",
    "\n",
    "    # data normalization\n",
    "    stock_prep_obj.normalization()\n",
    "\n",
    "    # binning\n",
    "    stock_prep_obj.binning()\n",
    "    # stock_prep_obj.plot_bins()\n",
    "\n",
    "    # indicator variables\n",
    "    stock_prep_obj.indicator_variables()\n",
    "\n",
    "    # data in sqlite database\n",
    "    stock_prep_obj.to_sql_stock_prices = stock_prep_obj.indicator_variables_stock_prices\n",
    "    stock_prep_obj.to_sqlite_database('stocks_prep.db')\n",
    "\n",
    "    print('stored in stocks_prep db: ' + ticker_symbol)\n",
    "\n",
    "    "
   ]
  },
  {
   "cell_type": "markdown",
   "metadata": {},
   "source": [
    "<font color='#5891db'>The data is stored in a second database for the prepared values.</font>"
   ]
  },
  {
   "cell_type": "markdown",
   "metadata": {},
   "source": []
  }
 ],
 "metadata": {
  "kernelspec": {
   "display_name": "venv",
   "language": "python",
   "name": "python3"
  },
  "language_info": {
   "codemirror_mode": {
    "name": "ipython",
    "version": 3
   },
   "file_extension": ".py",
   "mimetype": "text/x-python",
   "name": "python",
   "nbconvert_exporter": "python",
   "pygments_lexer": "ipython3",
   "version": "3.11.9"
  }
 },
 "nbformat": 4,
 "nbformat_minor": 2
}
