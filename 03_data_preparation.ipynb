{
 "cells": [
  {
   "cell_type": "markdown",
   "metadata": {},
   "source": [
    "### well structured - an ode to databases\n"
   ]
  },
  {
   "cell_type": "markdown",
   "metadata": {},
   "source": [
    "# data preparation"
   ]
  },
  {
   "cell_type": "markdown",
   "metadata": {},
   "source": [
    "### import libraries"
   ]
  },
  {
   "cell_type": "code",
   "execution_count": 298,
   "metadata": {},
   "outputs": [],
   "source": [
    "import yfinance as yf\n",
    "import sqlite3\n",
    "import pandas as pd\n",
    "import numpy as np\n",
    "import matplotlib.pyplot as plt\n",
    "import os\n",
    "%matplotlib inline"
   ]
  },
  {
   "cell_type": "markdown",
   "metadata": {},
   "source": [
    "## build stock preparation class"
   ]
  },
  {
   "cell_type": "code",
   "execution_count": 409,
   "metadata": {},
   "outputs": [],
   "source": [
    "class stock_prep:\n",
    "    def __init__(self, ticker_symbol):\n",
    "       \n",
    "        # load data\n",
    "        self.ticker_symbol = ticker_symbol\n",
    "        self.company_name = yf.Ticker(self.ticker_symbol).info['longName'].replace(r'/', ' ')\n",
    "        self.currency = yf.Ticker(self.ticker_symbol).info['currency']\n",
    "\n",
    "\n",
    "        # return dfs\n",
    "        self.company_stock_prices = []\n",
    "        self.trim_company_stock_price = []\n",
    "        self.replace_company_stock_prices = []\n",
    "        self.missing_company_stock_prices = []\n",
    "        self.avg_norm_loss_company_stock_prices = []\n",
    "        self.formatted_date_to_index = []\n",
    "        self.standardization_company_stock_prices = []\n",
    "        self.normalization_company_stock_prices = []\n",
    "        self.binning_company_stock_prices = []\n",
    "        self.indicator_variables_stock_prices = []\n",
    "        self.to_sql_stock_prices = []\n",
    "\n",
    "    # ------------------------ DATABASE -----------------------------------------\n",
    "        \n",
    "    def to_sqlite_database(self, db_name):\n",
    "\n",
    "        conn = sqlite3.connect(db_name)\n",
    "        self.to_sql_stock_prices.to_sql(name=self.company_name, con=conn, if_exists='replace')\n",
    "        conn.commit()\n",
    "        conn.close() \n",
    "\n",
    "    def read_sqlite_database(self, ticker_symbol, db_name, columns):\n",
    "        \n",
    "       \n",
    "        company_name = yf.Ticker(ticker_symbol).info['longName'].replace(r'/', ' ')\n",
    "        print(company_name) \n",
    "        print(columns)\n",
    "        conn = sqlite3.connect(db_name)\n",
    "        sql = \"SELECT \" + columns + \" FROM `\" + company_name + \"`\"\n",
    "        print(sql)\n",
    "        result = pd.read_sql(sql,conn)\n",
    "        return result\n",
    "       \n",
    "    # ------------------------ DATA ----------------------------------------- \n",
    "    \n",
    "    def replace_values(self):\n",
    "        self.company_stock_prices = self.read_sqlite_database(self.ticker_symbol, 'stocks_prep.db', 'date, `close_trim_' + self.ticker_symbol + '`')\n",
    "        self.replace_company_stock_prices = self.company_stock_prices.replace(\"Null\", np.nan)\n",
    "        print(self.replace_company_stock_prices.head(2))\n",
    "        \n",
    "    def missing_values_count(self):\n",
    "\n",
    "        # count missing values\n",
    "        self.missing_company_stock_prices = self.replace_company_stock_prices.isnull()\n",
    "        self.missing_company_stock_prices = self.missing_company_stock_prices['close_trim_' + self.ticker_symbol].value_counts()\n",
    "        print(self.missing_company_stock_prices.head(2))\n",
    "    \n",
    "    def avg_norm_loss(self):\n",
    "\n",
    "        # calculate mean and replace missing values\n",
    "        aux_var_avg_norm_loss = self.replace_company_stock_prices['close_trim_' + self.ticker_symbol].astype(\"float\").mean(axis=0)\n",
    "        self.avg_norm_loss_company_stock_prices = self.replace_company_stock_prices['close_trim_' + self.ticker_symbol].replace(np.nan, aux_var_avg_norm_loss)\n",
    "\n",
    "        # rename Series for df\n",
    "        first_item = self.replace_company_stock_prices['date'] #.rename('date_date')\n",
    "        second_item = self.avg_norm_loss_company_stock_prices #['Close'].rename('close_avg_norm_loss')\n",
    "\n",
    "        # build df\n",
    "        self.avg_norm_loss_company_stock_prices = pd.concat([first_item, second_item], axis=1) \n",
    "        print(self.avg_norm_loss_company_stock_prices.head(2))\n",
    "        \n",
    "    def standardization(self):\n",
    "        \n",
    "        aux_var_euro_dollar = self.read_sqlite_database('EURUSD=X', 'stocks_prep.db', 'date, `close_trim_EURUSD=X`')\n",
    "\n",
    "        print(aux_var_euro_dollar['close_trim_EURUSD=X'].head(2))\n",
    "        print(self.avg_norm_loss_company_stock_prices['close_trim_' + self.ticker_symbol].head(2))\n",
    "\n",
    "\n",
    "        # standardize close_avg_norm_loss\n",
    "        aux_var_form_ind = self.avg_norm_loss_company_stock_prices['close_trim_' + self.ticker_symbol]/aux_var_euro_dollar['close_trim_EURUSD=X']\n",
    "\n",
    "        # rename Series for df\n",
    "        first_item = self.avg_norm_loss_company_stock_prices\n",
    "        second_item =  aux_var_form_ind.rename(\"close_stand_\" + self.ticker_symbol)\n",
    "\n",
    "        # build df        \n",
    "        self.standardization_company_stock_prices = pd.concat([first_item, second_item], axis=1)\n",
    "        \n",
    "    def normalization(self):\n",
    "\n",
    "        # replace (original value) by (original value)/(maximum value)\n",
    "        aux_var_norm_close = self.standardization_company_stock_prices['close_stand_' + self.ticker_symbol]/self.standardization_company_stock_prices['close_stand_' + self.ticker_symbol].max()\n",
    "\n",
    "        # rename Series for df\n",
    "        first_item = self.standardization_company_stock_prices\n",
    "        second_item = aux_var_norm_close.rename(\"close_normal_\" + self.ticker_symbol)\n",
    "\n",
    "        # build df\n",
    "        self.normalization_company_stock_prices = pd.concat([first_item, second_item], axis=1)\n",
    "        \n",
    "    def binning(self):\n",
    "\n",
    "        # build bins\n",
    "        aux_var_bins = np.linspace(min(self.normalization_company_stock_prices[\"close_normal_\"  + self.ticker_symbol]), max(self.normalization_company_stock_prices[\"close_normal_\" + self.ticker_symbol]), 4)\n",
    "        aux_var_group_names = [\"Low\", \"Medium\", \"High\"]\n",
    "        aux_var_build_bins = pd.cut(self.normalization_company_stock_prices['close_normal_' + self.ticker_symbol], aux_var_bins, labels = aux_var_group_names, include_lowest= True)\n",
    "\n",
    "        # rename Series for df\n",
    "        first_item = self.normalization_company_stock_prices\n",
    "        second_item = aux_var_build_bins.rename(\"close_binned_\" + self.ticker_symbol)\n",
    "\n",
    "        print()\n",
    "\n",
    "        # build df\n",
    "        self.binning_company_stock_prices = pd.concat([first_item, second_item], axis=1)\n",
    "\n",
    "    def indicator_variables(self):\n",
    "\n",
    "        # build indicators\n",
    "        aux_var_indi = pd.get_dummies(self.binning_company_stock_prices[\"close_binned_\" + self.ticker_symbol])\n",
    "        aux_var_drop = self.binning_company_stock_prices.drop(['close_binned_' + self.ticker_symbol], axis = 1)\n",
    "\n",
    "        # rename Series for df\n",
    "        first_item = aux_var_drop\n",
    "        second_item = aux_var_indi #.rename(columns={'Medium':'close_price_medium', 'High':'close_price_high'}, inplace=True)\n",
    "\n",
    "        # # build df\n",
    "        self.indicator_variables_stock_prices = pd.concat([first_item, second_item], axis=1)\n",
    "\n",
    "    def trim_same_length(self, ticker_symbols):\n",
    "        \n",
    "        # load data\n",
    "        first_aux_var_corr = self.read_sqlite_database(self.ticker_symbol, 'stocks_orig.db', 'Date, Close')\n",
    "        print(first_aux_var_corr)\n",
    "\n",
    "        # rename Series for df\n",
    "        first_item = first_aux_var_corr.rename(columns={\"Date\" : \"date\", \"Close\": \"close_trim_\" + self.ticker_symbol})\n",
    "        \n",
    "        for ticker_symbol in ticker_symbols:\n",
    "\n",
    "            # load data\n",
    "            second_aux_var_corr = self.read_sqlite_database(ticker_symbol, 'stocks_orig.db', 'Date, Close') \n",
    "\n",
    "            # rename Series for df\n",
    "            second_item = second_aux_var_corr.rename(columns={\"Date\" : \"date\", \"Close\": \"close_trim_\" + ticker_symbol})\n",
    "\n",
    "            # build df\n",
    "            first_item = pd.merge(first_item, second_item, how = \"outer\", on = ['date', 'date'])\n",
    "\n",
    "        # load data\n",
    "        second_item = self.read_sqlite_database('EURUSD=X', 'stocks_orig.db', 'Date, Close')\n",
    "\n",
    "        # rename Series for df\n",
    "        second_item = second_aux_var_corr.rename(columns={\"Date\" : \"date\", \"Close\": \"close_trim_EURUSD=X\"})\n",
    "\n",
    "        self.trim_company_stock_price = pd.merge(first_item, second_item, how = \"left\", on = ['date', 'date'])\n",
    "\n",
    "        self.trim_company_stock_price\n",
    "\n",
    "\n",
    "\n",
    "    # ------------------------ VISUALISATION -----------------------------------------\n",
    "\n",
    "    def plot_bins_hist(self):\n",
    "        print('hello')\n",
    "\n",
    "        print(self.binning_company_stock_prices[\"close_binned_\" + self.ticker_symbol])\n",
    "\n",
    "        plt.hist(self.binning_company_stock_prices[\"close_binned_\" + self.ticker_symbol], bins = 3)\n",
    "       \n",
    "        plt.xlabel(\"amount\")\n",
    "        plt.ylabel(\"close_binned_\" + self.ticker_symbol)\n",
    "        plt.title(\"Close_Price_Categories\")\n",
    "\n",
    "    \n",
    "    def format_date_to_index(self):\n",
    "\n",
    "        # format date to int\n",
    "        aux_var_replaced_date = self.avg_norm_loss_company_stock_prices['date_date'].str.replace('-', '', regex=True).astype(np.int64)\n",
    "        self.avg_norm_loss_company_stock_prices['close_avg_norm_loss'] = self.avg_norm_loss_company_stock_prices['close_avg_norm_loss'].astype(np.float64)\n",
    "\n",
    "        # rename Series for df\n",
    "        first_item = self.avg_norm_loss_company_stock_prices\n",
    "        second_item = aux_var_replaced_date.rename('date_int')\n",
    "\n",
    "        # build df\n",
    "        self.formatted_date_to_index = pd.concat([first_item, second_item], axis=1)\n",
    "      \n",
    "    \n",
    "\n",
    "    "
   ]
  },
  {
   "cell_type": "markdown",
   "metadata": {},
   "source": [
    "## trim length"
   ]
  },
  {
   "cell_type": "code",
   "execution_count": 381,
   "metadata": {},
   "outputs": [
    {
     "name": "stdout",
     "output_type": "stream",
     "text": [
      "iShares Global Timber & Forestry UCITS ETF USD Acc\n",
      "Date, Close\n",
      "SELECT Date, Close FROM `iShares Global Timber & Forestry UCITS ETF USD Acc`\n",
      "                    Date      Close\n",
      "0    2021-11-05 00:00:00  30.709400\n",
      "1    2021-11-08 00:00:00  30.705601\n",
      "2    2021-11-09 00:00:00  30.667200\n",
      "3    2021-11-10 00:00:00  30.441799\n",
      "4    2021-11-11 00:00:00  30.740801\n",
      "..                   ...        ...\n",
      "604  2024-03-22 00:00:00  28.428900\n",
      "605  2024-03-25 00:00:00  28.478600\n",
      "606  2024-03-26 00:00:00  28.685301\n",
      "607  2024-03-27 00:00:00  28.638100\n",
      "608  2024-03-28 00:00:00  28.737900\n",
      "\n",
      "[609 rows x 2 columns]\n",
      "Weyerhaeuser Company\n",
      "Date, Close\n",
      "SELECT Date, Close FROM `Weyerhaeuser Company`\n",
      "Svenska Cellulosa Aktiebolaget SCA (publ)\n",
      "Date, Close\n",
      "SELECT Date, Close FROM `Svenska Cellulosa Aktiebolaget SCA (publ)`\n",
      "Suzano S.A.\n",
      "Date, Close\n",
      "SELECT Date, Close FROM `Suzano S.A.`\n",
      "Smurfit Kappa Group Plc\n",
      "Date, Close\n",
      "SELECT Date, Close FROM `Smurfit Kappa Group Plc`\n",
      "International Paper Company\n",
      "Date, Close\n",
      "SELECT Date, Close FROM `International Paper Company`\n",
      "Stora Enso Oyj\n",
      "Date, Close\n",
      "SELECT Date, Close FROM `Stora Enso Oyj`\n",
      "Rayonier Inc.\n",
      "Date, Close\n",
      "SELECT Date, Close FROM `Rayonier Inc.`\n",
      "West Fraser Timber Co. Ltd.\n",
      "Date, Close\n",
      "SELECT Date, Close FROM `West Fraser Timber Co. Ltd.`\n",
      "WestRock Company\n",
      "Date, Close\n",
      "SELECT Date, Close FROM `WestRock Company`\n",
      "PotlatchDeltic Corporation\n",
      "Date, Close\n",
      "SELECT Date, Close FROM `PotlatchDeltic Corporation`\n",
      "EUR USD\n",
      "Date, Close\n",
      "SELECT Date, Close FROM `EUR USD`\n"
     ]
    },
    {
     "data": {
      "text/html": [
       "<div>\n",
       "<style scoped>\n",
       "    .dataframe tbody tr th:only-of-type {\n",
       "        vertical-align: middle;\n",
       "    }\n",
       "\n",
       "    .dataframe tbody tr th {\n",
       "        vertical-align: top;\n",
       "    }\n",
       "\n",
       "    .dataframe thead th {\n",
       "        text-align: right;\n",
       "    }\n",
       "</style>\n",
       "<table border=\"1\" class=\"dataframe\">\n",
       "  <thead>\n",
       "    <tr style=\"text-align: right;\">\n",
       "      <th></th>\n",
       "      <th>date</th>\n",
       "      <th>close_trim_WOOE.AS</th>\n",
       "      <th>close_trim_WY</th>\n",
       "      <th>close_trim_SCA-B.ST</th>\n",
       "      <th>close_trim_SUZ</th>\n",
       "      <th>close_trim_SK3.IR</th>\n",
       "      <th>close_trim_IP</th>\n",
       "      <th>close_trim_STERV.HE</th>\n",
       "      <th>close_trim_RYN</th>\n",
       "      <th>close_trim_WFG</th>\n",
       "      <th>close_trim_WRK</th>\n",
       "      <th>close_trim_PCH</th>\n",
       "      <th>close_trim_EURUSD=X</th>\n",
       "    </tr>\n",
       "  </thead>\n",
       "  <tbody>\n",
       "    <tr>\n",
       "      <th>0</th>\n",
       "      <td>2021-11-01 00:00:00</td>\n",
       "      <td>NaN</td>\n",
       "      <td>36.980000</td>\n",
       "      <td>138.649994</td>\n",
       "      <td>8.70</td>\n",
       "      <td>45.939999</td>\n",
       "      <td>49.099998</td>\n",
       "      <td>14.50</td>\n",
       "      <td>37.990002</td>\n",
       "      <td>80.120003</td>\n",
       "      <td>47.790001</td>\n",
       "      <td>53.889999</td>\n",
       "      <td>53.889999</td>\n",
       "    </tr>\n",
       "    <tr>\n",
       "      <th>1</th>\n",
       "      <td>2021-11-02 00:00:00</td>\n",
       "      <td>NaN</td>\n",
       "      <td>36.150002</td>\n",
       "      <td>135.500000</td>\n",
       "      <td>8.64</td>\n",
       "      <td>45.490002</td>\n",
       "      <td>48.950001</td>\n",
       "      <td>14.31</td>\n",
       "      <td>37.669998</td>\n",
       "      <td>80.250000</td>\n",
       "      <td>47.139999</td>\n",
       "      <td>53.250000</td>\n",
       "      <td>53.250000</td>\n",
       "    </tr>\n",
       "    <tr>\n",
       "      <th>2</th>\n",
       "      <td>2021-11-03 00:00:00</td>\n",
       "      <td>NaN</td>\n",
       "      <td>38.270000</td>\n",
       "      <td>137.250000</td>\n",
       "      <td>8.94</td>\n",
       "      <td>45.470001</td>\n",
       "      <td>49.910000</td>\n",
       "      <td>14.51</td>\n",
       "      <td>39.400002</td>\n",
       "      <td>83.269997</td>\n",
       "      <td>48.419998</td>\n",
       "      <td>56.880001</td>\n",
       "      <td>56.880001</td>\n",
       "    </tr>\n",
       "    <tr>\n",
       "      <th>3</th>\n",
       "      <td>2021-11-04 00:00:00</td>\n",
       "      <td>NaN</td>\n",
       "      <td>38.139999</td>\n",
       "      <td>134.949997</td>\n",
       "      <td>8.78</td>\n",
       "      <td>45.520000</td>\n",
       "      <td>48.750000</td>\n",
       "      <td>14.36</td>\n",
       "      <td>39.299999</td>\n",
       "      <td>83.349998</td>\n",
       "      <td>47.970001</td>\n",
       "      <td>56.889999</td>\n",
       "      <td>56.889999</td>\n",
       "    </tr>\n",
       "    <tr>\n",
       "      <th>4</th>\n",
       "      <td>2021-11-05 00:00:00</td>\n",
       "      <td>30.7094</td>\n",
       "      <td>38.330002</td>\n",
       "      <td>133.550003</td>\n",
       "      <td>8.95</td>\n",
       "      <td>45.070000</td>\n",
       "      <td>48.869999</td>\n",
       "      <td>14.46</td>\n",
       "      <td>38.930000</td>\n",
       "      <td>83.639999</td>\n",
       "      <td>48.759998</td>\n",
       "      <td>56.990002</td>\n",
       "      <td>56.990002</td>\n",
       "    </tr>\n",
       "  </tbody>\n",
       "</table>\n",
       "</div>"
      ],
      "text/plain": [
       "                  date  close_trim_WOOE.AS  close_trim_WY  \\\n",
       "0  2021-11-01 00:00:00                 NaN      36.980000   \n",
       "1  2021-11-02 00:00:00                 NaN      36.150002   \n",
       "2  2021-11-03 00:00:00                 NaN      38.270000   \n",
       "3  2021-11-04 00:00:00                 NaN      38.139999   \n",
       "4  2021-11-05 00:00:00             30.7094      38.330002   \n",
       "\n",
       "   close_trim_SCA-B.ST  close_trim_SUZ  close_trim_SK3.IR  close_trim_IP  \\\n",
       "0           138.649994            8.70          45.939999      49.099998   \n",
       "1           135.500000            8.64          45.490002      48.950001   \n",
       "2           137.250000            8.94          45.470001      49.910000   \n",
       "3           134.949997            8.78          45.520000      48.750000   \n",
       "4           133.550003            8.95          45.070000      48.869999   \n",
       "\n",
       "   close_trim_STERV.HE  close_trim_RYN  close_trim_WFG  close_trim_WRK  \\\n",
       "0                14.50       37.990002       80.120003       47.790001   \n",
       "1                14.31       37.669998       80.250000       47.139999   \n",
       "2                14.51       39.400002       83.269997       48.419998   \n",
       "3                14.36       39.299999       83.349998       47.970001   \n",
       "4                14.46       38.930000       83.639999       48.759998   \n",
       "\n",
       "   close_trim_PCH  close_trim_EURUSD=X  \n",
       "0       53.889999            53.889999  \n",
       "1       53.250000            53.250000  \n",
       "2       56.880001            56.880001  \n",
       "3       56.889999            56.889999  \n",
       "4       56.990002            56.990002  "
      ]
     },
     "execution_count": 381,
     "metadata": {},
     "output_type": "execute_result"
    }
   ],
   "source": [
    "stock_prep_obj = stock_prep('WOOE.AS')\n",
    "ticker_symbols = ['WY', 'SCA-B.ST' , 'SUZ', 'SK3.IR', 'IP', 'STERV.HE','RYN', 'WFG', 'WRK', 'PCH']\n",
    "\n",
    "# trim lenght \n",
    "stock_prep_obj.trim_same_length(ticker_symbols)\n",
    "aux_val_company_stock_price = stock_prep_obj.trim_company_stock_price\n",
    "aux_val_company_stock_price.head() "
   ]
  },
  {
   "cell_type": "code",
   "execution_count": 382,
   "metadata": {},
   "outputs": [
    {
     "data": {
      "text/plain": [
       "count                     624\n",
       "unique                    624\n",
       "top       2021-11-01 00:00:00\n",
       "freq                        1\n",
       "Name: date, dtype: object"
      ]
     },
     "execution_count": 382,
     "metadata": {},
     "output_type": "execute_result"
    }
   ],
   "source": [
    "stock_prep_obj.trim_company_stock_price['date'].describe()"
   ]
  },
  {
   "cell_type": "markdown",
   "metadata": {},
   "source": [
    "## store values in database"
   ]
  },
  {
   "cell_type": "code",
   "execution_count": 383,
   "metadata": {},
   "outputs": [],
   "source": [
    "ticker_symbols = ['WOOE.AS', 'WY', 'SCA-B.ST' , 'SUZ', 'SK3.IR', 'IP', 'STERV.HE','RYN', 'WFG', 'WRK', 'PCH', 'EURUSD=X']\n",
    "aux_val_company_stock_price\n",
    "\n",
    "for ticker_symbol in ticker_symbols:\n",
    "    stock_prep_obj = stock_prep(ticker_symbol)\n",
    "    stock_prep_obj.indicator_variables_stock_prices = aux_val_company_stock_price[['date','close_trim_' + ticker_symbol]]\n",
    "    stock_prep_obj.to_sqlite_database('stocks_prep.db')"
   ]
  },
  {
   "cell_type": "markdown",
   "metadata": {},
   "source": [
    "## handling missing values"
   ]
  },
  {
   "cell_type": "code",
   "execution_count": 425,
   "metadata": {},
   "outputs": [],
   "source": [
    "stock_prep_obj = stock_prep('EURUSD=X')"
   ]
  },
  {
   "cell_type": "code",
   "execution_count": 426,
   "metadata": {},
   "outputs": [
    {
     "name": "stdout",
     "output_type": "stream",
     "text": [
      "EUR USD\n",
      "date, `close_trim_EURUSD=X`\n",
      "SELECT date, `close_trim_EURUSD=X` FROM `EUR USD`\n",
      "                  date  close_trim_EURUSD=X\n",
      "0  2021-11-01 00:00:00            53.889999\n",
      "1  2021-11-02 00:00:00            53.250000\n",
      "                  date  close_trim_EURUSD=X\n",
      "0  2021-11-01 00:00:00            53.889999\n",
      "1  2021-11-02 00:00:00            53.250000\n",
      "2  2021-11-03 00:00:00            56.880001\n",
      "3  2021-11-04 00:00:00            56.889999\n",
      "4  2021-11-05 00:00:00            56.990002\n"
     ]
    }
   ],
   "source": [
    "# replace missing values\n",
    "stock_prep_obj.replace_values()\n",
    "print(stock_prep_obj.replace_company_stock_prices.head(5))"
   ]
  },
  {
   "cell_type": "code",
   "execution_count": 427,
   "metadata": {},
   "outputs": [
    {
     "name": "stdout",
     "output_type": "stream",
     "text": [
      "                  date  close_trim_EURUSD=X\n",
      "0  2021-11-01 00:00:00            53.889999\n",
      "1  2021-11-02 00:00:00            53.250000\n",
      "                  date  close_trim_EURUSD=X\n",
      "0  2021-11-01 00:00:00            53.889999\n",
      "1  2021-11-02 00:00:00            53.250000\n",
      "2  2021-11-03 00:00:00            56.880001\n",
      "3  2021-11-04 00:00:00            56.889999\n",
      "4  2021-11-05 00:00:00            56.990002\n"
     ]
    }
   ],
   "source": [
    "# handling missing values\n",
    "stock_prep_obj.avg_norm_loss()\n",
    "print(stock_prep_obj.avg_norm_loss_company_stock_prices.head(5))"
   ]
  },
  {
   "cell_type": "code",
   "execution_count": 428,
   "metadata": {},
   "outputs": [
    {
     "ename": "AttributeError",
     "evalue": "'list' object has no attribute 'to_sql'",
     "output_type": "error",
     "traceback": [
      "\u001b[0;31m---------------------------------------------------------------------------\u001b[0m",
      "\u001b[0;31mAttributeError\u001b[0m                            Traceback (most recent call last)",
      "Cell \u001b[0;32mIn[428], line 1\u001b[0m\n\u001b[0;32m----> 1\u001b[0m \u001b[43mstock_prep_obj\u001b[49m\u001b[38;5;241;43m.\u001b[39;49m\u001b[43mto_sqlite_database\u001b[49m\u001b[43m(\u001b[49m\u001b[38;5;124;43m'\u001b[39;49m\u001b[38;5;124;43mstocks_prep.db\u001b[39;49m\u001b[38;5;124;43m'\u001b[39;49m\u001b[43m)\u001b[49m\n",
      "Cell \u001b[0;32mIn[409], line 28\u001b[0m, in \u001b[0;36mstock_prep.to_sqlite_database\u001b[0;34m(self, db_name)\u001b[0m\n\u001b[1;32m     25\u001b[0m \u001b[38;5;28;01mdef\u001b[39;00m \u001b[38;5;21mto_sqlite_database\u001b[39m(\u001b[38;5;28mself\u001b[39m, db_name):\n\u001b[1;32m     27\u001b[0m     conn \u001b[38;5;241m=\u001b[39m sqlite3\u001b[38;5;241m.\u001b[39mconnect(db_name)\n\u001b[0;32m---> 28\u001b[0m     \u001b[38;5;28;43mself\u001b[39;49m\u001b[38;5;241;43m.\u001b[39;49m\u001b[43mindicator_variables_stock_prices\u001b[49m\u001b[38;5;241;43m.\u001b[39;49m\u001b[43mto_sql\u001b[49m(name\u001b[38;5;241m=\u001b[39m\u001b[38;5;28mself\u001b[39m\u001b[38;5;241m.\u001b[39mcompany_name, con\u001b[38;5;241m=\u001b[39mconn, if_exists\u001b[38;5;241m=\u001b[39m\u001b[38;5;124m'\u001b[39m\u001b[38;5;124mreplace\u001b[39m\u001b[38;5;124m'\u001b[39m)\n\u001b[1;32m     29\u001b[0m     conn\u001b[38;5;241m.\u001b[39mcommit()\n\u001b[1;32m     30\u001b[0m     conn\u001b[38;5;241m.\u001b[39mclose()\n",
      "\u001b[0;31mAttributeError\u001b[0m: 'list' object has no attribute 'to_sql'"
     ]
    }
   ],
   "source": [
    "\n",
    "\n",
    "stock_prep_obj.to_sqlite_database('stocks_prep.db')"
   ]
  },
  {
   "cell_type": "markdown",
   "metadata": {},
   "source": [
    "## identify and handling missing values"
   ]
  },
  {
   "cell_type": "code",
   "execution_count": 410,
   "metadata": {},
   "outputs": [],
   "source": [
    "stock_prep_obj = stock_prep('WOOE.AS')"
   ]
  },
  {
   "cell_type": "code",
   "execution_count": 411,
   "metadata": {},
   "outputs": [
    {
     "name": "stdout",
     "output_type": "stream",
     "text": [
      "iShares Global Timber & Forestry UCITS ETF USD Acc\n",
      "date, `close_trim_WOOE.AS`\n",
      "SELECT date, `close_trim_WOOE.AS` FROM `iShares Global Timber & Forestry UCITS ETF USD Acc`\n",
      "                  date  close_trim_WOOE.AS\n",
      "0  2021-11-01 00:00:00                 NaN\n",
      "1  2021-11-02 00:00:00                 NaN\n",
      "                  date  close_trim_WOOE.AS\n",
      "0  2021-11-01 00:00:00                 NaN\n",
      "1  2021-11-02 00:00:00                 NaN\n",
      "2  2021-11-03 00:00:00                 NaN\n",
      "3  2021-11-04 00:00:00                 NaN\n",
      "4  2021-11-05 00:00:00             30.7094\n"
     ]
    }
   ],
   "source": [
    "# replace missing values\n",
    "stock_prep_obj.replace_values()\n",
    "print(stock_prep_obj.replace_company_stock_prices.head(5))"
   ]
  },
  {
   "cell_type": "code",
   "execution_count": 412,
   "metadata": {},
   "outputs": [
    {
     "name": "stdout",
     "output_type": "stream",
     "text": [
      "close_trim_WOOE.AS\n",
      "False    609\n",
      "True      15\n",
      "Name: count, dtype: int64\n"
     ]
    }
   ],
   "source": [
    "# identify missing values\n",
    "stock_prep_obj.missing_values_count()\n",
    "#print(stock_prep_obj.missing_company_stock_prices)"
   ]
  },
  {
   "cell_type": "code",
   "execution_count": 413,
   "metadata": {},
   "outputs": [
    {
     "name": "stdout",
     "output_type": "stream",
     "text": [
      "                  date  close_trim_WOOE.AS\n",
      "0  2021-11-01 00:00:00           26.670818\n",
      "1  2021-11-02 00:00:00           26.670818\n",
      "                  date  close_trim_WOOE.AS\n",
      "0  2021-11-01 00:00:00           26.670818\n",
      "1  2021-11-02 00:00:00           26.670818\n",
      "2  2021-11-03 00:00:00           26.670818\n",
      "3  2021-11-04 00:00:00           26.670818\n",
      "4  2021-11-05 00:00:00           30.709400\n"
     ]
    }
   ],
   "source": [
    "# handling missing values\n",
    "stock_prep_obj.avg_norm_loss()\n",
    "print(stock_prep_obj.avg_norm_loss_company_stock_prices.head(5))"
   ]
  },
  {
   "cell_type": "markdown",
   "metadata": {},
   "source": [
    "## correct dataformat"
   ]
  },
  {
   "cell_type": "code",
   "execution_count": 307,
   "metadata": {},
   "outputs": [],
   "source": [
    "#stock_prep_obj.format_date_to_index()\n",
    "#print(stock_prep_obj.formatted_date_to_index.head(5))"
   ]
  },
  {
   "cell_type": "markdown",
   "metadata": {},
   "source": [
    "## data standardization"
   ]
  },
  {
   "cell_type": "code",
   "execution_count": 414,
   "metadata": {},
   "outputs": [
    {
     "name": "stdout",
     "output_type": "stream",
     "text": [
      "EUR USD\n",
      "date, `close_trim_EURUSD=X`\n",
      "SELECT date, `close_trim_EURUSD=X` FROM `EUR USD`\n",
      "0    53.889999\n",
      "1    53.250000\n",
      "Name: close_trim_EURUSD=X, dtype: float64\n",
      "0    26.670818\n",
      "1    26.670818\n",
      "Name: close_trim_WOOE.AS, dtype: float64\n",
      "                  date  close_trim_WOOE.AS  close_stand_WOOE.AS\n",
      "0  2021-11-01 00:00:00           26.670818             0.494912\n",
      "1  2021-11-02 00:00:00           26.670818             0.500860\n",
      "2  2021-11-03 00:00:00           26.670818             0.468896\n",
      "3  2021-11-04 00:00:00           26.670818             0.468814\n",
      "4  2021-11-05 00:00:00           30.709400             0.538856\n"
     ]
    }
   ],
   "source": [
    "stock_prep_obj.standardization()\n",
    "print(stock_prep_obj.standardization_company_stock_prices.head(5))\n"
   ]
  },
  {
   "cell_type": "markdown",
   "metadata": {},
   "source": [
    "# normalization"
   ]
  },
  {
   "cell_type": "code",
   "execution_count": 415,
   "metadata": {},
   "outputs": [
    {
     "name": "stdout",
     "output_type": "stream",
     "text": [
      "                  date  close_trim_WOOE.AS  close_stand_WOOE.AS  \\\n",
      "0  2021-11-01 00:00:00           26.670818             0.494912   \n",
      "1  2021-11-02 00:00:00           26.670818             0.500860   \n",
      "2  2021-11-03 00:00:00           26.670818             0.468896   \n",
      "3  2021-11-04 00:00:00           26.670818             0.468814   \n",
      "4  2021-11-05 00:00:00           30.709400             0.538856   \n",
      "\n",
      "   close_normal_WOOE.AS  \n",
      "0              0.798821  \n",
      "1              0.808422  \n",
      "2              0.756830  \n",
      "3              0.756697  \n",
      "4              0.869750  \n"
     ]
    }
   ],
   "source": [
    "stock_prep_obj.normalization()\n",
    "print(stock_prep_obj.normalization_company_stock_prices.head(5))"
   ]
  },
  {
   "cell_type": "markdown",
   "metadata": {},
   "source": [
    "## binning"
   ]
  },
  {
   "cell_type": "code",
   "execution_count": 418,
   "metadata": {},
   "outputs": [
    {
     "name": "stdout",
     "output_type": "stream",
     "text": [
      "\n",
      "                  date  close_trim_WOOE.AS  close_stand_WOOE.AS  \\\n",
      "0  2021-11-01 00:00:00           26.670818             0.494912   \n",
      "1  2021-11-02 00:00:00           26.670818             0.500860   \n",
      "2  2021-11-03 00:00:00           26.670818             0.468896   \n",
      "3  2021-11-04 00:00:00           26.670818             0.468814   \n",
      "4  2021-11-05 00:00:00           30.709400             0.538856   \n",
      "\n",
      "   close_normal_WOOE.AS close_binned_WOOE.AS  \n",
      "0              0.798821                  Low  \n",
      "1              0.808422                  Low  \n",
      "2              0.756830                  Low  \n",
      "3              0.756697                  Low  \n",
      "4              0.869750               Medium  \n"
     ]
    }
   ],
   "source": [
    "stock_prep_obj.binning()\n",
    "print(stock_prep_obj.binning_company_stock_prices.head(5))\n",
    "#stock_prep_obj.plot_bins_hist()"
   ]
  },
  {
   "cell_type": "code",
   "execution_count": null,
   "metadata": {},
   "outputs": [
    {
     "data": {
      "image/png": "[encoded data removed]",
      "text/plain": [
       "<Figure size 640x480 with 1 Axes>"
      ]
     },
     "metadata": {},
     "output_type": "display_data"
    }
   ],
   "source": [
    "categories = [\"High\", \"Medium\", \"Low\"]\n",
    "company_names = [\"Farmer Joe\", \"Upland Bros.\", \"Smith Gardening\",\n",
    "           \"Agrifun\", \"Organiculture\", \"BioGoods Ltd.\", \"Cornylee Corp.\"]\n",
    "\n",
    "amount = np.array([[0.8, 2.4, 2.5, 3.9, 0.0, 4.0, 0.0],\n",
    "                    [2.4, 0.0, 4.0, 1.0, 2.7, 0.0, 0.0],\n",
    "                    [1.1, 2.4, 0.8, 4.3, 1.9, 4.4, 0.0],\n",
    "                    [0.6, 0.0, 0.3, 0.0, 3.1, 0.0, 0.0],\n",
    "                    [0.7, 1.7, 0.6, 2.6, 2.2, 6.2, 0.0],\n",
    "                    [1.3, 1.2, 0.0, 0.0, 0.0, 3.2, 5.1],\n",
    "                    [0.1, 2.0, 0.0, 1.4, 0.0, 1.9, 6.3]])\n",
    "\n",
    "categories = [\"High\", \"Medium\", \"Low\"]\n",
    "company_names = [\"Farmer Joe\", \"Upland Bros.\", \"Smith Gardening\",\n",
    "           \"Agrifun\", \"Organiculture\", \"BioGoods Ltd.\", \"Cornylee Corp.\"]\n",
    "\n",
    "\n",
    "fig, ax = plt.subplots()\n",
    "im = ax.imshow(amount)\n",
    "\n",
    "# Show all ticks and label them with the respective list entries\n",
    "ax.set_xticks(np.arange(len(categories)), labels=categories)\n",
    "ax.set_yticks(np.arange(len(company_names)), labels=company_names)\n",
    "\n",
    "# Rotate the tick labels and set their alignment.\n",
    "plt.setp(ax.get_xticklabels(), rotation=45, ha=\"right\",\n",
    "                rotation_mode=\"anchor\")\n",
    "\n",
    "# Loop over data dimensions and create text annotations.\n",
    "for i in range(len(categories)):\n",
    "        for j in range(len(company_names)):\n",
    "                text = ax.text(j, i, amount[i, j],\n",
    "                        ha=\"center\", va=\"center\", color=\"w\")\n",
    "\n",
    "ax.set_title(\"Categories amount\")\n",
    "fig.tight_layout()\n",
    "plt.show()    \n"
   ]
  },
  {
   "cell_type": "markdown",
   "metadata": {},
   "source": [
    "## indicator Variables"
   ]
  },
  {
   "cell_type": "code",
   "execution_count": 417,
   "metadata": {},
   "outputs": [
    {
     "name": "stdout",
     "output_type": "stream",
     "text": [
      "                  date  close_trim_WOOE.AS  close_stand_WOOE.AS  \\\n",
      "0  2021-11-01 00:00:00           26.670818             0.494912   \n",
      "1  2021-11-02 00:00:00           26.670818             0.500860   \n",
      "2  2021-11-03 00:00:00           26.670818             0.468896   \n",
      "3  2021-11-04 00:00:00           26.670818             0.468814   \n",
      "4  2021-11-05 00:00:00           30.709400             0.538856   \n",
      "\n",
      "   close_normal_WOOE.AS    Low  Medium   High  \n",
      "0              0.798821   True   False  False  \n",
      "1              0.808422   True   False  False  \n",
      "2              0.756830   True   False  False  \n",
      "3              0.756697   True   False  False  \n",
      "4              0.869750  False    True  False  \n"
     ]
    }
   ],
   "source": [
    "stock_prep_obj.indicator_variables()\n",
    "print(stock_prep_obj.indicator_variables_stock_prices.head(5))"
   ]
  },
  {
   "cell_type": "markdown",
   "metadata": {},
   "source": [
    "## store in  stock_prep db"
   ]
  },
  {
   "cell_type": "code",
   "execution_count": 419,
   "metadata": {},
   "outputs": [],
   "source": [
    "stock_prep_obj.to_sqlite_database('stocks_prep.db')"
   ]
  },
  {
   "cell_type": "markdown",
   "metadata": {},
   "source": [
    "# store data in sqlite db"
   ]
  },
  {
   "cell_type": "code",
   "execution_count": null,
   "metadata": {},
   "outputs": [
    {
     "name": "stdout",
     "output_type": "stream",
     "text": [
      "stored in stocks_prep db: iShares Global Timber & Forestry UCITS ETF USD Acc.csv\n",
      "stored in stocks_prep db: Weyerhaeuser Company.csv\n",
      "stored in stocks_prep db: Svenska Cellulosa Aktiebolaget SCA (publ).csv\n",
      "stored in stocks_prep db: Suzano S.A..csv\n"
     ]
    },
    {
     "name": "stdout",
     "output_type": "stream",
     "text": [
      "stored in stocks_prep db: Smurfit Kappa Group Plc.csv\n",
      "stored in stocks_prep db: International Paper Company.csv\n",
      "stored in stocks_prep db: Stora Enso Oyj.csv\n",
      "stored in stocks_prep db: Rayonier Inc..csv\n",
      "stored in stocks_prep db: West Fraser Timber Co. Ltd..csv\n",
      "stored in stocks_prep db: WestRock Company.csv\n",
      "stored in stocks_prep db: PotlatchDeltic Corporation.csv\n"
     ]
    }
   ],
   "source": [
    "#ticker_symbols = ['WOOE.AS', 'WY', 'SCA-B.ST', 'SUZ', 'SK3.IR', 'IP', 'STERV.HE','RYN', 'WFG', 'WRK', 'PCH']\n",
    "file_names = os.listdir('data/')\n",
    "#print(file_names)\n",
    "\n",
    "for file_name in file_names:\n",
    "\n",
    "    # call init class\n",
    "    stock_prep_obj = stock_prep(file_name)\n",
    "\n",
    "    # replace missing values\n",
    "    stock_prep_obj.replace_values()\n",
    "    \n",
    "    # identify missing values\n",
    "    stock_prep_obj.missing_values_count()\n",
    "    \n",
    "    # handling missing values\n",
    "    stock_prep_obj.avg_norm_loss()\n",
    "\n",
    "    # data_format\n",
    "    stock_prep_obj.format_date_to_index()\n",
    "\n",
    "    # data standardization\n",
    "    stock_prep_obj.standardization()\n",
    "\n",
    "    # data normalization\n",
    "    stock_prep_obj.normalization()\n",
    "\n",
    "    # binning\n",
    "    stock_prep_obj.binning()\n",
    "    # stock_prep_obj.plot_bins()\n",
    "\n",
    "    # indicator variables\n",
    "    stock_prep_obj.indicator_variables()\n",
    "\n",
    "    # data in sqlite database\n",
    "    stock_prep_obj.to_sqlite_database()\n",
    "\n",
    "    print('stored in stocks_prep db: ' + file_name)\n",
    "\n",
    "    "
   ]
  }
 ],
 "metadata": {
  "kernelspec": {
   "display_name": "venv",
   "language": "python",
   "name": "python3"
  },
  "language_info": {
   "codemirror_mode": {
    "name": "ipython",
    "version": 3
   },
   "file_extension": ".py",
   "mimetype": "text/x-python",
   "name": "python",
   "nbconvert_exporter": "python",
   "pygments_lexer": "ipython3",
   "version": "3.11.9"
  }
 },
 "nbformat": 4,
 "nbformat_minor": 2
}
