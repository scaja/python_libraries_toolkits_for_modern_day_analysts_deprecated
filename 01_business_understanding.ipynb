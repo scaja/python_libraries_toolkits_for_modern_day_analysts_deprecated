{
 "cells": [
  {
   "cell_type": "markdown",
   "metadata": {},
   "source": [
    "### python libraries - the ultimate toolkits for modern-day analysts\n"
   ]
  },
  {
   "cell_type": "markdown",
   "metadata": {},
   "source": [
    "# business understanding"
   ]
  },
  {
   "cell_type": "markdown",
   "metadata": {},
   "source": [
    "### wood info"
   ]
  },
  {
   "cell_type": "code",
   "execution_count": 3,
   "metadata": {},
   "outputs": [
    {
     "data": {
      "text/html": [
       "<img src=\"img/wood_samples.jpg\" width=\"300\" height=\"300\"/>"
      ],
      "text/plain": [
       "<IPython.core.display.Image object>"
      ]
     },
     "execution_count": 3,
     "metadata": {},
     "output_type": "execute_result"
    }
   ],
   "source": [
    "# import image module \n",
    "from IPython.display import Image \n",
    "\n",
    "# get the image \n",
    "Image(url=\"img/wood_samples.jpg\", width=300, height=300) "
   ]
  },
  {
   "cell_type": "markdown",
   "metadata": {},
   "source": [
    "Wood is a structural tissue found in the stems and roots of trees and other woody plants. It is an organic material – a natural composite of cellulose fibers that are strong in tension and embedded in a matrix of lignin that resists compression. https://en.wikipedia.org/wiki/Wood https://commons.wikimedia.org/wiki/File:16_wood_samples.jpg Wood is used in construction, furniture, utensils, arts, sports and recreational equipment. https://en.wikipedia.org/wiki/Wood Global production of roundwood rose from 3.5 billion m³ in 2000 to 4 billion m³ in 2021. In 2021, wood fuel was the main product with a 49 percent share of the total (2 billion m³), followed by coniferous industrial roundwood with 30 percent (1.2 billion m³) and non-coniferous industrial roundwood with 21 percent (0.9 billion m³). Asia and the Americas are the two main producing regions, accounting for 29 and 28 percent of the total roundwood production, respectively; https://en.wikipedia.org/wiki/Wood\n"
   ]
  },
  {
   "cell_type": "markdown",
   "metadata": {},
   "source": [
    "## iShares Global Timber & Forestry UCITS ETF"
   ]
  },
  {
   "cell_type": "markdown",
   "metadata": {},
   "source": [
    "The iShares Global Timber & Forestry UCITS ETF seeks to track the S&P Global Timber&Forestry index. The S&P Global Timber&Forestry index tracks the 25 largest and most liquid listed companies globally that are involved in the ownership, management or the upstream supply chain of forests and timberlands.https://www.justetf.com/en/etf-profile.html?isin=IE00B27YCF74#overview"
   ]
  },
  {
   "cell_type": "code",
   "execution_count": 4,
   "metadata": {},
   "outputs": [
    {
     "data": {
      "text/html": [
       "<img src=\"img/top_ten_wood_holdings.png\" width=\"400\" height=\"400\"/>"
      ],
      "text/plain": [
       "<IPython.core.display.Image object>"
      ]
     },
     "execution_count": 4,
     "metadata": {},
     "output_type": "execute_result"
    }
   ],
   "source": [
    "# get the image \n",
    "Image(url=\"img/top_ten_wood_holdings.png\", width=400, height=400) "
   ]
  }
 ],
 "metadata": {
  "kernelspec": {
   "display_name": "venv",
   "language": "python",
   "name": "python3"
  },
  "language_info": {
   "codemirror_mode": {
    "name": "ipython",
    "version": 3
   },
   "file_extension": ".py",
   "mimetype": "text/x-python",
   "name": "python",
   "nbconvert_exporter": "python",
   "pygments_lexer": "ipython3",
   "version": "3.11.9"
  }
 },
 "nbformat": 4,
 "nbformat_minor": 2
}
